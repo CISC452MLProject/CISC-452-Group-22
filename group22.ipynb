{
 "cells": [
  {
   "cell_type": "markdown",
   "metadata": {
    "colab_type": "text",
    "id": "view-in-github"
   },
   "source": [
    "<a href=\"https://colab.research.google.com/github/CISC452MLProject/CISC-452-Group-22/blob/main/group22.ipynb\" target=\"_parent\"><img src=\"https://colab.research.google.com/assets/colab-badge.svg\" alt=\"Open In Colab\"/></a>"
   ]
  },
  {
   "cell_type": "markdown",
   "metadata": {},
   "source": []
  },
  {
   "cell_type": "code",
   "execution_count": 1,
   "metadata": {},
   "outputs": [],
   "source": [
    "import os\n",
    "from mmdet.apis import inference_detector, init_detector\n",
    "import requests\n",
    "from mmpose.utils import adapt_mmdet_pipeline\n",
    "from mmpose.registry import VISUALIZERS\n",
    "from mmpose.apis import inference_topdown\n",
    "from mmpose.apis import init_model as init_pose_estimator\n",
    "import mmcv\n",
    "import numpy as np\n",
    "from mmpose.evaluation.functional import nms\n",
    "from mmpose.structures import merge_data_samples"
   ]
  },
  {
   "cell_type": "code",
   "execution_count": 2,
   "metadata": {},
   "outputs": [
    {
     "name": "stdout",
     "output_type": "stream",
     "text": [
      "Loads checkpoint by http backend from path: https://download.openmmlab.com/mmpose/v1/projects/rtmpose/rtmdet_m_8xb32-100e_coco-obj365-person-235e8209.pth\n",
      "Loads checkpoint by http backend from path: https://download.openmmlab.com/mmpose/v1/projects/rtmposev1/rtmpose-m_simcc-body7_pt-body7_420e-256x192-e48f03d0_20230504.pth\n"
     ]
    }
   ],
   "source": [
    "dec_checkpoint_url = \"https://download.openmmlab.com/mmpose/v1/projects/rtmpose/rtmdet_m_8xb32-100e_coco-obj365-person-235e8209.pth\"\n",
    "pos_config_url = \"https://download.openmmlab.com/mmpose/v1/projects/rtmposev1/rtmpose-m_simcc-body7_pt-body7_420e-256x192-e48f03d0_20230504.pth\"\n",
    "\n",
    "detector = init_detector(\n",
    "        \"mmpose/demo/mmdetection_cfg/rtmdet_m_640-8xb32_coco-person.py\", dec_checkpoint_url, device=\"cuda\")\n",
    "detector.cfg = adapt_mmdet_pipeline(detector.cfg)\n",
    "\n",
    "\n",
    "pose_estimator = init_pose_estimator(\n",
    "        \"mmpose/configs/body_2d_keypoint/rtmpose/body8/rtmpose-m_8xb256-420e_body8-256x192.py \",\n",
    "        pos_config_url,\n",
    "        device=\"cuda\",\n",
    "        cfg_options=dict(\n",
    "            model=dict(test_cfg=dict(output_heatmaps=True))))"
   ]
  },
  {
   "cell_type": "code",
   "execution_count": 3,
   "metadata": {},
   "outputs": [],
   "source": [
    "pose_estimator.cfg.visualizer.radius = 3\n",
    "pose_estimator.cfg.visualizer.alpha = 0.8\n",
    "pose_estimator.cfg.visualizer.line_width = 1\n",
    "visualizer = VISUALIZERS.build(pose_estimator.cfg.visualizer)\n",
    "\n",
    "visualizer.set_dataset_meta(\n",
    "    pose_estimator.dataset_meta, skeleton_style=\"mmpose\")"
   ]
  },
  {
   "cell_type": "code",
   "execution_count": 4,
   "metadata": {},
   "outputs": [
    {
     "name": "stderr",
     "output_type": "stream",
     "text": [
      "c:\\Users\\mikeG\\Documents\\school\\cisc-452\\CISC-452-Group-22\\lib\\site-packages\\torch\\functional.py:504: UserWarning: torch.meshgrid: in an upcoming release, it will be required to pass the indexing argument. (Triggered internally at ..\\aten\\src\\ATen\\native\\TensorShape.cpp:3191.)\n",
      "  return _VF.meshgrid(tensors, **kwargs)  # type: ignore[attr-defined]\n"
     ]
    }
   ],
   "source": [
    "img = \"img/frame140.jpg\"\n",
    "det_result = inference_detector(detector, img)\n",
    "pred_instance = det_result.pred_instances.cpu().numpy()\n",
    "bboxes = np.concatenate(\n",
    "    (pred_instance.bboxes, pred_instance.scores[:, None]), axis=1)\n",
    "bboxes = bboxes[np.logical_and(pred_instance.labels == 0,\n",
    "                                pred_instance.scores > 0.3)]\n",
    "bboxes = bboxes[nms(bboxes, 0.3), :4]"
   ]
  },
  {
   "cell_type": "code",
   "execution_count": 5,
   "metadata": {},
   "outputs": [
    {
     "name": "stderr",
     "output_type": "stream",
     "text": [
      "c:\\users\\mikeg\\documents\\school\\cisc-452\\cisc-452-group-22\\mmpose\\mmpose\\models\\heads\\coord_cls_heads\\rtmcc_head.py:217: UserWarning: The predicted simcc values are normalized for visualization. This may cause discrepancy between the keypoint scores and the 1D heatmaps.\n",
      "  warnings.warn('The predicted simcc values are normalized for '\n"
     ]
    }
   ],
   "source": [
    "pose_results = inference_topdown(pose_estimator, img, bboxes)\n",
    "data_samples = merge_data_samples(pose_results)"
   ]
  },
  {
   "cell_type": "code",
   "execution_count": 6,
   "metadata": {},
   "outputs": [
    {
     "data": {
      "text/plain": [
       "array([[[ 31,  29,  50],\n",
       "        [ 55,  53,  74],\n",
       "        [ 59,  57,  78],\n",
       "        ...,\n",
       "        [ 13,  13,  13],\n",
       "        [ 13,  13,  13],\n",
       "        [ 13,  13,  13]],\n",
       "\n",
       "       [[ 31,  29,  50],\n",
       "        [ 55,  53,  74],\n",
       "        [ 59,  57,  78],\n",
       "        ...,\n",
       "        [ 13,  13,  13],\n",
       "        [ 13,  13,  13],\n",
       "        [ 13,  13,  13]],\n",
       "\n",
       "       [[ 30,  28,  49],\n",
       "        [ 55,  53,  74],\n",
       "        [ 59,  57,  78],\n",
       "        ...,\n",
       "        [ 13,  13,  13],\n",
       "        [ 13,  13,  13],\n",
       "        [ 13,  13,  13]],\n",
       "\n",
       "       ...,\n",
       "\n",
       "       [[255, 255, 255],\n",
       "        [255, 255, 255],\n",
       "        [255, 255, 255],\n",
       "        ...,\n",
       "        [255, 255, 255],\n",
       "        [255, 255, 255],\n",
       "        [255, 255, 255]],\n",
       "\n",
       "       [[255, 255, 255],\n",
       "        [255, 255, 255],\n",
       "        [255, 255, 255],\n",
       "        ...,\n",
       "        [255, 255, 255],\n",
       "        [255, 255, 255],\n",
       "        [255, 255, 255]],\n",
       "\n",
       "       [[255, 255, 255],\n",
       "        [255, 255, 255],\n",
       "        [255, 255, 255],\n",
       "        ...,\n",
       "        [255, 255, 255],\n",
       "        [255, 255, 255],\n",
       "        [255, 255, 255]]], dtype=uint8)"
      ]
     },
     "execution_count": 6,
     "metadata": {},
     "output_type": "execute_result"
    }
   ],
   "source": [
    "img = mmcv.imread(img, channel_order='rgb')\n",
    "visualizer.add_datasample(\n",
    "            'result',\n",
    "            img,\n",
    "            data_sample=data_samples,\n",
    "            draw_gt=False,\n",
    "            draw_heatmap=True,\n",
    "            draw_bbox=True,\n",
    "            skeleton_style=\"mmpose\",\n",
    "            show=True)"
   ]
  },
  {
   "cell_type": "code",
   "execution_count": null,
   "metadata": {},
   "outputs": [],
   "source": []
  }
 ],
 "metadata": {
  "colab": {
   "authorship_tag": "ABX9TyPrzw3BnpkEBdif3EGVwwsr",
   "include_colab_link": true,
   "provenance": []
  },
  "kernelspec": {
   "display_name": "CISC-452-Group-22",
   "language": "python",
   "name": "python3"
  },
  "language_info": {
   "codemirror_mode": {
    "name": "ipython",
    "version": 3
   },
   "file_extension": ".py",
   "mimetype": "text/x-python",
   "name": "python",
   "nbconvert_exporter": "python",
   "pygments_lexer": "ipython3",
   "version": "3.10.11"
  }
 },
 "nbformat": 4,
 "nbformat_minor": 0
}
