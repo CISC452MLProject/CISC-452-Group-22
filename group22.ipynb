{
 "cells": [
  {
   "cell_type": "markdown",
   "metadata": {
    "colab_type": "text",
    "id": "view-in-github"
   },
   "source": [
    "<a href=\"https://colab.research.google.com/github/CISC452MLProject/CISC-452-Group-22/blob/main/group22.ipynb\" target=\"_parent\"><img src=\"https://colab.research.google.com/assets/colab-badge.svg\" alt=\"Open In Colab\"/></a>"
   ]
  },
  {
   "cell_type": "code",
   "execution_count": 2,
   "metadata": {
    "colab": {
     "base_uri": "https://localhost:8080/"
    },
    "id": "1StsOXFd2h7l",
    "outputId": "0111bf2b-d6f0-4867-d77d-eac44b9e5c33"
   },
   "outputs": [
    {
     "name": "stdout",
     "output_type": "stream",
     "text": [
      "Requirement already satisfied: openmim in c:\\users\\mikeg\\documents\\school\\cisc-452\\cisc-452-group-22\\lib\\site-packages (0.3.9)\n",
      "Requirement already satisfied: Click in c:\\users\\mikeg\\documents\\school\\cisc-452\\cisc-452-group-22\\lib\\site-packages (from openmim) (8.1.7)\n",
      "Requirement already satisfied: colorama in c:\\users\\mikeg\\documents\\school\\cisc-452\\cisc-452-group-22\\lib\\site-packages (from openmim) (0.4.6)\n",
      "Requirement already satisfied: model-index in c:\\users\\mikeg\\documents\\school\\cisc-452\\cisc-452-group-22\\lib\\site-packages (from openmim) (0.1.11)\n",
      "Requirement already satisfied: opendatalab in c:\\users\\mikeg\\documents\\school\\cisc-452\\cisc-452-group-22\\lib\\site-packages (from openmim) (0.0.10)\n",
      "Requirement already satisfied: pandas in c:\\users\\mikeg\\documents\\school\\cisc-452\\cisc-452-group-22\\lib\\site-packages (from openmim) (2.2.3)\n",
      "Requirement already satisfied: pip>=19.3 in c:\\users\\mikeg\\documents\\school\\cisc-452\\cisc-452-group-22\\lib\\site-packages (from openmim) (24.3.1)\n",
      "Requirement already satisfied: requests in c:\\users\\mikeg\\documents\\school\\cisc-452\\cisc-452-group-22\\lib\\site-packages (from openmim) (2.32.3)\n",
      "Requirement already satisfied: rich in c:\\users\\mikeg\\documents\\school\\cisc-452\\cisc-452-group-22\\lib\\site-packages (from openmim) (13.4.2)\n",
      "Requirement already satisfied: tabulate in c:\\users\\mikeg\\documents\\school\\cisc-452\\cisc-452-group-22\\lib\\site-packages (from openmim) (0.9.0)\n",
      "Requirement already satisfied: pyyaml in c:\\users\\mikeg\\documents\\school\\cisc-452\\cisc-452-group-22\\lib\\site-packages (from model-index->openmim) (6.0.2)\n",
      "Requirement already satisfied: markdown in c:\\users\\mikeg\\documents\\school\\cisc-452\\cisc-452-group-22\\lib\\site-packages (from model-index->openmim) (3.7)\n",
      "Requirement already satisfied: ordered-set in c:\\users\\mikeg\\documents\\school\\cisc-452\\cisc-452-group-22\\lib\\site-packages (from model-index->openmim) (4.1.0)\n",
      "Requirement already satisfied: pycryptodome in c:\\users\\mikeg\\documents\\school\\cisc-452\\cisc-452-group-22\\lib\\site-packages (from opendatalab->openmim) (3.21.0)\n",
      "Requirement already satisfied: tqdm in c:\\users\\mikeg\\documents\\school\\cisc-452\\cisc-452-group-22\\lib\\site-packages (from opendatalab->openmim) (4.65.2)\n",
      "Requirement already satisfied: openxlab in c:\\users\\mikeg\\documents\\school\\cisc-452\\cisc-452-group-22\\lib\\site-packages (from opendatalab->openmim) (0.1.2)\n",
      "Requirement already satisfied: pywin32 in c:\\users\\mikeg\\documents\\school\\cisc-452\\cisc-452-group-22\\lib\\site-packages (from opendatalab->openmim) (308)\n",
      "Requirement already satisfied: charset-normalizer<4,>=2 in c:\\users\\mikeg\\documents\\school\\cisc-452\\cisc-452-group-22\\lib\\site-packages (from requests->openmim) (3.4.0)\n",
      "Requirement already satisfied: idna<4,>=2.5 in c:\\users\\mikeg\\documents\\school\\cisc-452\\cisc-452-group-22\\lib\\site-packages (from requests->openmim) (3.10)\n",
      "Requirement already satisfied: urllib3<3,>=1.21.1 in c:\\users\\mikeg\\documents\\school\\cisc-452\\cisc-452-group-22\\lib\\site-packages (from requests->openmim) (1.26.20)\n",
      "Requirement already satisfied: certifi>=2017.4.17 in c:\\users\\mikeg\\documents\\school\\cisc-452\\cisc-452-group-22\\lib\\site-packages (from requests->openmim) (2024.8.30)\n",
      "Requirement already satisfied: numpy>=1.26.0 in c:\\users\\mikeg\\documents\\school\\cisc-452\\cisc-452-group-22\\lib\\site-packages (from pandas->openmim) (2.1.3)\n",
      "Requirement already satisfied: python-dateutil>=2.8.2 in c:\\users\\mikeg\\documents\\school\\cisc-452\\cisc-452-group-22\\lib\\site-packages (from pandas->openmim) (2.9.0.post0)\n",
      "Requirement already satisfied: pytz>=2020.1 in c:\\users\\mikeg\\documents\\school\\cisc-452\\cisc-452-group-22\\lib\\site-packages (from pandas->openmim) (2023.4)\n",
      "Requirement already satisfied: tzdata>=2022.7 in c:\\users\\mikeg\\documents\\school\\cisc-452\\cisc-452-group-22\\lib\\site-packages (from pandas->openmim) (2024.2)\n",
      "Requirement already satisfied: markdown-it-py>=2.2.0 in c:\\users\\mikeg\\documents\\school\\cisc-452\\cisc-452-group-22\\lib\\site-packages (from rich->openmim) (3.0.0)\n",
      "Requirement already satisfied: pygments<3.0.0,>=2.13.0 in c:\\users\\mikeg\\documents\\school\\cisc-452\\cisc-452-group-22\\lib\\site-packages (from rich->openmim) (2.18.0)\n",
      "Requirement already satisfied: mdurl~=0.1 in c:\\users\\mikeg\\documents\\school\\cisc-452\\cisc-452-group-22\\lib\\site-packages (from markdown-it-py>=2.2.0->rich->openmim) (0.1.2)\n",
      "Requirement already satisfied: six>=1.5 in c:\\users\\mikeg\\documents\\school\\cisc-452\\cisc-452-group-22\\lib\\site-packages (from python-dateutil>=2.8.2->pandas->openmim) (1.16.0)\n",
      "Requirement already satisfied: filelock~=3.14.0 in c:\\users\\mikeg\\documents\\school\\cisc-452\\cisc-452-group-22\\lib\\site-packages (from openxlab->opendatalab->openmim) (3.14.0)\n",
      "Requirement already satisfied: oss2~=2.17.0 in c:\\users\\mikeg\\documents\\school\\cisc-452\\cisc-452-group-22\\lib\\site-packages (from openxlab->opendatalab->openmim) (2.17.0)\n",
      "Requirement already satisfied: packaging~=24.0 in c:\\users\\mikeg\\documents\\school\\cisc-452\\cisc-452-group-22\\lib\\site-packages (from openxlab->opendatalab->openmim) (24.2)\n",
      "Collecting requests (from openmim)\n",
      "  Using cached requests-2.28.2-py3-none-any.whl.metadata (4.6 kB)\n",
      "Requirement already satisfied: setuptools~=60.2.0 in c:\\users\\mikeg\\documents\\school\\cisc-452\\cisc-452-group-22\\lib\\site-packages (from openxlab->opendatalab->openmim) (60.2.0)\n",
      "Requirement already satisfied: crcmod>=1.7 in c:\\users\\mikeg\\documents\\school\\cisc-452\\cisc-452-group-22\\lib\\site-packages (from oss2~=2.17.0->openxlab->opendatalab->openmim) (1.7)\n",
      "Requirement already satisfied: aliyun-python-sdk-kms>=2.4.1 in c:\\users\\mikeg\\documents\\school\\cisc-452\\cisc-452-group-22\\lib\\site-packages (from oss2~=2.17.0->openxlab->opendatalab->openmim) (2.16.5)\n",
      "Requirement already satisfied: aliyun-python-sdk-core>=2.13.12 in c:\\users\\mikeg\\documents\\school\\cisc-452\\cisc-452-group-22\\lib\\site-packages (from oss2~=2.17.0->openxlab->opendatalab->openmim) (2.16.0)\n",
      "Requirement already satisfied: jmespath<1.0.0,>=0.9.3 in c:\\users\\mikeg\\documents\\school\\cisc-452\\cisc-452-group-22\\lib\\site-packages (from aliyun-python-sdk-core>=2.13.12->oss2~=2.17.0->openxlab->opendatalab->openmim) (0.10.0)\n",
      "Requirement already satisfied: cryptography>=3.0.0 in c:\\users\\mikeg\\documents\\school\\cisc-452\\cisc-452-group-22\\lib\\site-packages (from aliyun-python-sdk-core>=2.13.12->oss2~=2.17.0->openxlab->opendatalab->openmim) (44.0.0)\n",
      "Requirement already satisfied: cffi>=1.12 in c:\\users\\mikeg\\documents\\school\\cisc-452\\cisc-452-group-22\\lib\\site-packages (from cryptography>=3.0.0->aliyun-python-sdk-core>=2.13.12->oss2~=2.17.0->openxlab->opendatalab->openmim) (1.17.1)\n",
      "Requirement already satisfied: pycparser in c:\\users\\mikeg\\documents\\school\\cisc-452\\cisc-452-group-22\\lib\\site-packages (from cffi>=1.12->cryptography>=3.0.0->aliyun-python-sdk-core>=2.13.12->oss2~=2.17.0->openxlab->opendatalab->openmim) (2.22)\n",
      "Using cached requests-2.28.2-py3-none-any.whl (62 kB)\n",
      "Installing collected packages: requests\n",
      "  Attempting uninstall: requests\n",
      "    Found existing installation: requests 2.32.3\n",
      "    Uninstalling requests-2.32.3:\n",
      "      Successfully uninstalled requests-2.32.3\n",
      "Successfully installed requests-2.28.2\n"
     ]
    },
    {
     "name": "stderr",
     "output_type": "stream",
     "text": [
      "ERROR: pip's dependency resolver does not currently take into account all the packages that are installed. This behaviour is the source of the following dependency conflicts.\n",
      "jupyterlab-server 2.27.3 requires requests>=2.31, but you have requests 2.28.2 which is incompatible.\n",
      "Traceback (most recent call last):\n",
      "  File \"<frozen runpy>\", line 198, in _run_module_as_main\n",
      "  File \"<frozen runpy>\", line 88, in _run_code\n",
      "  File \"c:\\Users\\mikeG\\Documents\\school\\cisc-452\\CISC-452-Group-22\\Scripts\\mim.exe\\__main__.py\", line 4, in <module>\n",
      "  File \"C:\\Users\\mikeG\\Documents\\school\\cisc-452\\CISC-452-Group-22\\Lib\\site-packages\\mim\\__init__.py\", line 10, in <module>\n",
      "    import setuptools  # noqa: F401\n",
      "    ^^^^^^^^^^^^^^^^^\n",
      "  File \"C:\\Users\\mikeG\\Documents\\school\\cisc-452\\CISC-452-Group-22\\Lib\\site-packages\\setuptools\\__init__.py\", line 16, in <module>\n",
      "    import setuptools.version\n",
      "  File \"C:\\Users\\mikeG\\Documents\\school\\cisc-452\\CISC-452-Group-22\\Lib\\site-packages\\setuptools\\version.py\", line 1, in <module>\n",
      "    import pkg_resources\n",
      "  File \"C:\\Users\\mikeG\\Documents\\school\\cisc-452\\CISC-452-Group-22\\Lib\\site-packages\\pkg_resources\\__init__.py\", line 2172, in <module>\n",
      "    register_finder(pkgutil.ImpImporter, find_on_path)\n",
      "                    ^^^^^^^^^^^^^^^^^^^\n",
      "AttributeError: module 'pkgutil' has no attribute 'ImpImporter'. Did you mean: 'zipimporter'?\n",
      "Traceback (most recent call last):\n",
      "  File \"<frozen runpy>\", line 198, in _run_module_as_main\n",
      "  File \"<frozen runpy>\", line 88, in _run_code\n",
      "  File \"c:\\Users\\mikeG\\Documents\\school\\cisc-452\\CISC-452-Group-22\\Scripts\\mim.exe\\__main__.py\", line 4, in <module>\n",
      "  File \"C:\\Users\\mikeG\\Documents\\school\\cisc-452\\CISC-452-Group-22\\Lib\\site-packages\\mim\\__init__.py\", line 10, in <module>\n",
      "    import setuptools  # noqa: F401\n",
      "    ^^^^^^^^^^^^^^^^^\n",
      "  File \"C:\\Users\\mikeG\\Documents\\school\\cisc-452\\CISC-452-Group-22\\Lib\\site-packages\\setuptools\\__init__.py\", line 16, in <module>\n",
      "    import setuptools.version\n",
      "  File \"C:\\Users\\mikeG\\Documents\\school\\cisc-452\\CISC-452-Group-22\\Lib\\site-packages\\setuptools\\version.py\", line 1, in <module>\n",
      "    import pkg_resources\n",
      "  File \"C:\\Users\\mikeG\\Documents\\school\\cisc-452\\CISC-452-Group-22\\Lib\\site-packages\\pkg_resources\\__init__.py\", line 2172, in <module>\n",
      "    register_finder(pkgutil.ImpImporter, find_on_path)\n",
      "                    ^^^^^^^^^^^^^^^^^^^\n",
      "AttributeError: module 'pkgutil' has no attribute 'ImpImporter'. Did you mean: 'zipimporter'?\n"
     ]
    }
   ],
   "source": [
    "!pip3 install openmim\n",
    "!mim install mmengine\n",
    "!mim install \"mmcv>=2.0.1\""
   ]
  }
 ],
 "metadata": {
  "colab": {
   "authorship_tag": "ABX9TyPrzw3BnpkEBdif3EGVwwsr",
   "include_colab_link": true,
   "provenance": []
  },
  "kernelspec": {
   "display_name": "CISC-452-Group-22",
   "language": "python",
   "name": "python3"
  },
  "language_info": {
   "codemirror_mode": {
    "name": "ipython",
    "version": 3
   },
   "file_extension": ".py",
   "mimetype": "text/x-python",
   "name": "python",
   "nbconvert_exporter": "python",
   "pygments_lexer": "ipython3",
   "version": "3.12.7"
  }
 },
 "nbformat": 4,
 "nbformat_minor": 0
}
