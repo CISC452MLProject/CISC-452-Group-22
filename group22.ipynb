{
 "cells": [
  {
   "cell_type": "markdown",
   "metadata": {
    "colab_type": "text",
    "id": "view-in-github"
   },
   "source": [
    "<a href=\"https://colab.research.google.com/github/CISC452MLProject/CISC-452-Group-22/blob/main/group22.ipynb\" target=\"_parent\"><img src=\"https://colab.research.google.com/assets/colab-badge.svg\" alt=\"Open In Colab\"/></a>"
   ]
  },
  {
   "cell_type": "markdown",
   "metadata": {},
   "source": [
    "## Image analysis\n"
   ]
  },
  {
   "cell_type": "code",
   "execution_count": 1,
   "metadata": {},
   "outputs": [
    {
     "ename": "KeyboardInterrupt",
     "evalue": "",
     "output_type": "error",
     "traceback": [
      "\u001b[1;31m---------------------------------------------------------------------------\u001b[0m",
      "\u001b[1;31mKeyboardInterrupt\u001b[0m                         Traceback (most recent call last)",
      "Cell \u001b[1;32mIn[1], line 3\u001b[0m\n\u001b[0;32m      1\u001b[0m \u001b[38;5;28;01mimport\u001b[39;00m \u001b[38;5;21;01mos\u001b[39;00m\n\u001b[0;32m      2\u001b[0m \u001b[38;5;28;01mimport\u001b[39;00m \u001b[38;5;21;01mcv2\u001b[39;00m\n\u001b[1;32m----> 3\u001b[0m \u001b[38;5;28;01mfrom\u001b[39;00m \u001b[38;5;21;01mmmdet\u001b[39;00m\u001b[38;5;21;01m.\u001b[39;00m\u001b[38;5;21;01mapis\u001b[39;00m \u001b[38;5;28;01mimport\u001b[39;00m inference_detector, init_detector\n\u001b[0;32m      4\u001b[0m \u001b[38;5;28;01mimport\u001b[39;00m \u001b[38;5;21;01mrequests\u001b[39;00m\n\u001b[0;32m      5\u001b[0m \u001b[38;5;28;01mfrom\u001b[39;00m \u001b[38;5;21;01mmmpose\u001b[39;00m\u001b[38;5;21;01m.\u001b[39;00m\u001b[38;5;21;01mutils\u001b[39;00m \u001b[38;5;28;01mimport\u001b[39;00m adapt_mmdet_pipeline\n",
      "File \u001b[1;32mc:\\Users\\mikeG\\Documents\\school\\cisc-452\\CISC-452-Group-22\\lib\\site-packages\\mmdet\\apis\\__init__.py:2\u001b[0m\n\u001b[0;32m      1\u001b[0m \u001b[38;5;66;03m# Copyright (c) OpenMMLab. All rights reserved.\u001b[39;00m\n\u001b[1;32m----> 2\u001b[0m \u001b[38;5;28;01mfrom\u001b[39;00m \u001b[38;5;21;01m.\u001b[39;00m\u001b[38;5;21;01mdet_inferencer\u001b[39;00m \u001b[38;5;28;01mimport\u001b[39;00m DetInferencer\n\u001b[0;32m      3\u001b[0m \u001b[38;5;28;01mfrom\u001b[39;00m \u001b[38;5;21;01m.\u001b[39;00m\u001b[38;5;21;01minference\u001b[39;00m \u001b[38;5;28;01mimport\u001b[39;00m (async_inference_detector, inference_detector,\n\u001b[0;32m      4\u001b[0m                         inference_mot, init_detector, init_track_model)\n\u001b[0;32m      6\u001b[0m __all__ \u001b[38;5;241m=\u001b[39m [\n\u001b[0;32m      7\u001b[0m     \u001b[38;5;124m'\u001b[39m\u001b[38;5;124minit_detector\u001b[39m\u001b[38;5;124m'\u001b[39m, \u001b[38;5;124m'\u001b[39m\u001b[38;5;124masync_inference_detector\u001b[39m\u001b[38;5;124m'\u001b[39m, \u001b[38;5;124m'\u001b[39m\u001b[38;5;124minference_detector\u001b[39m\u001b[38;5;124m'\u001b[39m,\n\u001b[0;32m      8\u001b[0m     \u001b[38;5;124m'\u001b[39m\u001b[38;5;124mDetInferencer\u001b[39m\u001b[38;5;124m'\u001b[39m, \u001b[38;5;124m'\u001b[39m\u001b[38;5;124minference_mot\u001b[39m\u001b[38;5;124m'\u001b[39m, \u001b[38;5;124m'\u001b[39m\u001b[38;5;124minit_track_model\u001b[39m\u001b[38;5;124m'\u001b[39m\n\u001b[0;32m      9\u001b[0m ]\n",
      "File \u001b[1;32mc:\\Users\\mikeG\\Documents\\school\\cisc-452\\CISC-452-Group-22\\lib\\site-packages\\mmdet\\apis\\det_inferencer.py:22\u001b[0m\n\u001b[0;32m     19\u001b[0m \u001b[38;5;28;01mfrom\u001b[39;00m \u001b[38;5;21;01mmmengine\u001b[39;00m\u001b[38;5;21;01m.\u001b[39;00m\u001b[38;5;21;01mvisualization\u001b[39;00m \u001b[38;5;28;01mimport\u001b[39;00m Visualizer\n\u001b[0;32m     20\u001b[0m \u001b[38;5;28;01mfrom\u001b[39;00m \u001b[38;5;21;01mrich\u001b[39;00m\u001b[38;5;21;01m.\u001b[39;00m\u001b[38;5;21;01mprogress\u001b[39;00m \u001b[38;5;28;01mimport\u001b[39;00m track\n\u001b[1;32m---> 22\u001b[0m \u001b[38;5;28;01mfrom\u001b[39;00m \u001b[38;5;21;01mmmdet\u001b[39;00m\u001b[38;5;21;01m.\u001b[39;00m\u001b[38;5;21;01mevaluation\u001b[39;00m \u001b[38;5;28;01mimport\u001b[39;00m INSTANCE_OFFSET\n\u001b[0;32m     23\u001b[0m \u001b[38;5;28;01mfrom\u001b[39;00m \u001b[38;5;21;01mmmdet\u001b[39;00m\u001b[38;5;21;01m.\u001b[39;00m\u001b[38;5;21;01mregistry\u001b[39;00m \u001b[38;5;28;01mimport\u001b[39;00m DATASETS\n\u001b[0;32m     24\u001b[0m \u001b[38;5;28;01mfrom\u001b[39;00m \u001b[38;5;21;01mmmdet\u001b[39;00m\u001b[38;5;21;01m.\u001b[39;00m\u001b[38;5;21;01mstructures\u001b[39;00m \u001b[38;5;28;01mimport\u001b[39;00m DetDataSample\n",
      "File \u001b[1;32mc:\\Users\\mikeG\\Documents\\school\\cisc-452\\CISC-452-Group-22\\lib\\site-packages\\mmdet\\evaluation\\__init__.py:4\u001b[0m\n\u001b[0;32m      2\u001b[0m \u001b[38;5;28;01mfrom\u001b[39;00m \u001b[38;5;21;01m.\u001b[39;00m\u001b[38;5;21;01mevaluator\u001b[39;00m \u001b[38;5;28;01mimport\u001b[39;00m \u001b[38;5;241m*\u001b[39m  \u001b[38;5;66;03m# noqa: F401,F403\u001b[39;00m\n\u001b[0;32m      3\u001b[0m \u001b[38;5;28;01mfrom\u001b[39;00m \u001b[38;5;21;01m.\u001b[39;00m\u001b[38;5;21;01mfunctional\u001b[39;00m \u001b[38;5;28;01mimport\u001b[39;00m \u001b[38;5;241m*\u001b[39m  \u001b[38;5;66;03m# noqa: F401,F403\u001b[39;00m\n\u001b[1;32m----> 4\u001b[0m \u001b[38;5;28;01mfrom\u001b[39;00m \u001b[38;5;21;01m.\u001b[39;00m\u001b[38;5;21;01mmetrics\u001b[39;00m \u001b[38;5;28;01mimport\u001b[39;00m \u001b[38;5;241m*\u001b[39m  \u001b[38;5;66;03m# noqa: F401,F403\u001b[39;00m\n",
      "File \u001b[1;32mc:\\Users\\mikeG\\Documents\\school\\cisc-452\\CISC-452-Group-22\\lib\\site-packages\\mmdet\\evaluation\\metrics\\__init__.py:5\u001b[0m\n\u001b[0;32m      3\u001b[0m \u001b[38;5;28;01mfrom\u001b[39;00m \u001b[38;5;21;01m.\u001b[39;00m\u001b[38;5;21;01mcityscapes_metric\u001b[39;00m \u001b[38;5;28;01mimport\u001b[39;00m CityScapesMetric\n\u001b[0;32m      4\u001b[0m \u001b[38;5;28;01mfrom\u001b[39;00m \u001b[38;5;21;01m.\u001b[39;00m\u001b[38;5;21;01mcoco_caption_metric\u001b[39;00m \u001b[38;5;28;01mimport\u001b[39;00m COCOCaptionMetric\n\u001b[1;32m----> 5\u001b[0m \u001b[38;5;28;01mfrom\u001b[39;00m \u001b[38;5;21;01m.\u001b[39;00m\u001b[38;5;21;01mcoco_metric\u001b[39;00m \u001b[38;5;28;01mimport\u001b[39;00m CocoMetric\n\u001b[0;32m      6\u001b[0m \u001b[38;5;28;01mfrom\u001b[39;00m \u001b[38;5;21;01m.\u001b[39;00m\u001b[38;5;21;01mcoco_occluded_metric\u001b[39;00m \u001b[38;5;28;01mimport\u001b[39;00m CocoOccludedSeparatedMetric\n\u001b[0;32m      7\u001b[0m \u001b[38;5;28;01mfrom\u001b[39;00m \u001b[38;5;21;01m.\u001b[39;00m\u001b[38;5;21;01mcoco_panoptic_metric\u001b[39;00m \u001b[38;5;28;01mimport\u001b[39;00m CocoPanopticMetric\n",
      "File \u001b[1;32mc:\\Users\\mikeG\\Documents\\school\\cisc-452\\CISC-452-Group-22\\lib\\site-packages\\mmdet\\evaluation\\metrics\\coco_metric.py:16\u001b[0m\n\u001b[0;32m     13\u001b[0m \u001b[38;5;28;01mfrom\u001b[39;00m \u001b[38;5;21;01mmmengine\u001b[39;00m\u001b[38;5;21;01m.\u001b[39;00m\u001b[38;5;21;01mlogging\u001b[39;00m \u001b[38;5;28;01mimport\u001b[39;00m MMLogger\n\u001b[0;32m     14\u001b[0m \u001b[38;5;28;01mfrom\u001b[39;00m \u001b[38;5;21;01mterminaltables\u001b[39;00m \u001b[38;5;28;01mimport\u001b[39;00m AsciiTable\n\u001b[1;32m---> 16\u001b[0m \u001b[38;5;28;01mfrom\u001b[39;00m \u001b[38;5;21;01mmmdet\u001b[39;00m\u001b[38;5;21;01m.\u001b[39;00m\u001b[38;5;21;01mdatasets\u001b[39;00m\u001b[38;5;21;01m.\u001b[39;00m\u001b[38;5;21;01mapi_wrappers\u001b[39;00m \u001b[38;5;28;01mimport\u001b[39;00m COCO, COCOeval, COCOevalMP\n\u001b[0;32m     17\u001b[0m \u001b[38;5;28;01mfrom\u001b[39;00m \u001b[38;5;21;01mmmdet\u001b[39;00m\u001b[38;5;21;01m.\u001b[39;00m\u001b[38;5;21;01mregistry\u001b[39;00m \u001b[38;5;28;01mimport\u001b[39;00m METRICS\n\u001b[0;32m     18\u001b[0m \u001b[38;5;28;01mfrom\u001b[39;00m \u001b[38;5;21;01mmmdet\u001b[39;00m\u001b[38;5;21;01m.\u001b[39;00m\u001b[38;5;21;01mstructures\u001b[39;00m\u001b[38;5;21;01m.\u001b[39;00m\u001b[38;5;21;01mmask\u001b[39;00m \u001b[38;5;28;01mimport\u001b[39;00m encode_mask_results\n",
      "File \u001b[1;32mc:\\Users\\mikeG\\Documents\\school\\cisc-452\\CISC-452-Group-22\\lib\\site-packages\\mmdet\\datasets\\__init__.py:31\u001b[0m\n\u001b[0;32m     26\u001b[0m \u001b[38;5;28;01mfrom\u001b[39;00m \u001b[38;5;21;01m.\u001b[39;00m\u001b[38;5;21;01mreid_dataset\u001b[39;00m \u001b[38;5;28;01mimport\u001b[39;00m ReIDDataset\n\u001b[0;32m     27\u001b[0m \u001b[38;5;28;01mfrom\u001b[39;00m \u001b[38;5;21;01m.\u001b[39;00m\u001b[38;5;21;01msamplers\u001b[39;00m \u001b[38;5;28;01mimport\u001b[39;00m (AspectRatioBatchSampler, ClassAwareSampler,\n\u001b[0;32m     28\u001b[0m                        CustomSampleSizeSampler, GroupMultiSourceSampler,\n\u001b[0;32m     29\u001b[0m                        MultiSourceSampler, TrackAspectRatioBatchSampler,\n\u001b[0;32m     30\u001b[0m                        TrackImgSampler)\n\u001b[1;32m---> 31\u001b[0m \u001b[38;5;28;01mfrom\u001b[39;00m \u001b[38;5;21;01m.\u001b[39;00m\u001b[38;5;21;01mutils\u001b[39;00m \u001b[38;5;28;01mimport\u001b[39;00m get_loading_pipeline\n\u001b[0;32m     32\u001b[0m \u001b[38;5;28;01mfrom\u001b[39;00m \u001b[38;5;21;01m.\u001b[39;00m\u001b[38;5;21;01mv3det\u001b[39;00m \u001b[38;5;28;01mimport\u001b[39;00m V3DetDataset\n\u001b[0;32m     33\u001b[0m \u001b[38;5;28;01mfrom\u001b[39;00m \u001b[38;5;21;01m.\u001b[39;00m\u001b[38;5;21;01mvoc\u001b[39;00m \u001b[38;5;28;01mimport\u001b[39;00m VOCDataset\n",
      "File \u001b[1;32mc:\\Users\\mikeG\\Documents\\school\\cisc-452\\CISC-452-Group-22\\lib\\site-packages\\mmdet\\datasets\\utils.py:5\u001b[0m\n\u001b[0;32m      1\u001b[0m \u001b[38;5;66;03m# Copyright (c) OpenMMLab. All rights reserved.\u001b[39;00m\n\u001b[0;32m      3\u001b[0m \u001b[38;5;28;01mfrom\u001b[39;00m \u001b[38;5;21;01mmmcv\u001b[39;00m\u001b[38;5;21;01m.\u001b[39;00m\u001b[38;5;21;01mtransforms\u001b[39;00m \u001b[38;5;28;01mimport\u001b[39;00m LoadImageFromFile\n\u001b[1;32m----> 5\u001b[0m \u001b[38;5;28;01mfrom\u001b[39;00m \u001b[38;5;21;01mmmdet\u001b[39;00m\u001b[38;5;21;01m.\u001b[39;00m\u001b[38;5;21;01mdatasets\u001b[39;00m\u001b[38;5;21;01m.\u001b[39;00m\u001b[38;5;21;01mtransforms\u001b[39;00m \u001b[38;5;28;01mimport\u001b[39;00m LoadAnnotations, LoadPanopticAnnotations\n\u001b[0;32m      6\u001b[0m \u001b[38;5;28;01mfrom\u001b[39;00m \u001b[38;5;21;01mmmdet\u001b[39;00m\u001b[38;5;21;01m.\u001b[39;00m\u001b[38;5;21;01mregistry\u001b[39;00m \u001b[38;5;28;01mimport\u001b[39;00m TRANSFORMS\n\u001b[0;32m      9\u001b[0m \u001b[38;5;28;01mdef\u001b[39;00m \u001b[38;5;21mget_loading_pipeline\u001b[39m(pipeline):\n",
      "File \u001b[1;32mc:\\Users\\mikeG\\Documents\\school\\cisc-452\\CISC-452-Group-22\\lib\\site-packages\\mmdet\\datasets\\transforms\\__init__.py:6\u001b[0m\n\u001b[0;32m      2\u001b[0m \u001b[38;5;28;01mfrom\u001b[39;00m \u001b[38;5;21;01m.\u001b[39;00m\u001b[38;5;21;01maugment_wrappers\u001b[39;00m \u001b[38;5;28;01mimport\u001b[39;00m AutoAugment, RandAugment\n\u001b[0;32m      3\u001b[0m \u001b[38;5;28;01mfrom\u001b[39;00m \u001b[38;5;21;01m.\u001b[39;00m\u001b[38;5;21;01mcolorspace\u001b[39;00m \u001b[38;5;28;01mimport\u001b[39;00m (AutoContrast, Brightness, Color, ColorTransform,\n\u001b[0;32m      4\u001b[0m                          Contrast, Equalize, Invert, Posterize, Sharpness,\n\u001b[0;32m      5\u001b[0m                          Solarize, SolarizeAdd)\n\u001b[1;32m----> 6\u001b[0m \u001b[38;5;28;01mfrom\u001b[39;00m \u001b[38;5;21;01m.\u001b[39;00m\u001b[38;5;21;01mformatting\u001b[39;00m \u001b[38;5;28;01mimport\u001b[39;00m (ImageToTensor, PackDetInputs, PackReIDInputs,\n\u001b[0;32m      7\u001b[0m                          PackTrackInputs, ToTensor, Transpose)\n\u001b[0;32m      8\u001b[0m \u001b[38;5;28;01mfrom\u001b[39;00m \u001b[38;5;21;01m.\u001b[39;00m\u001b[38;5;21;01mframe_sampling\u001b[39;00m \u001b[38;5;28;01mimport\u001b[39;00m BaseFrameSample, UniformRefFrameSample\n\u001b[0;32m      9\u001b[0m \u001b[38;5;28;01mfrom\u001b[39;00m \u001b[38;5;21;01m.\u001b[39;00m\u001b[38;5;21;01mgeometric\u001b[39;00m \u001b[38;5;28;01mimport\u001b[39;00m (GeomTransform, Rotate, ShearX, ShearY, TranslateX,\n\u001b[0;32m     10\u001b[0m                         TranslateY)\n",
      "File \u001b[1;32mc:\\Users\\mikeG\\Documents\\school\\cisc-452\\CISC-452-Group-22\\lib\\site-packages\\mmdet\\datasets\\transforms\\formatting.py:11\u001b[0m\n\u001b[0;32m      9\u001b[0m \u001b[38;5;28;01mfrom\u001b[39;00m \u001b[38;5;21;01mmmdet\u001b[39;00m\u001b[38;5;21;01m.\u001b[39;00m\u001b[38;5;21;01mregistry\u001b[39;00m \u001b[38;5;28;01mimport\u001b[39;00m TRANSFORMS\n\u001b[0;32m     10\u001b[0m \u001b[38;5;28;01mfrom\u001b[39;00m \u001b[38;5;21;01mmmdet\u001b[39;00m\u001b[38;5;21;01m.\u001b[39;00m\u001b[38;5;21;01mstructures\u001b[39;00m \u001b[38;5;28;01mimport\u001b[39;00m DetDataSample, ReIDDataSample, TrackDataSample\n\u001b[1;32m---> 11\u001b[0m \u001b[38;5;28;01mfrom\u001b[39;00m \u001b[38;5;21;01mmmdet\u001b[39;00m\u001b[38;5;21;01m.\u001b[39;00m\u001b[38;5;21;01mstructures\u001b[39;00m\u001b[38;5;21;01m.\u001b[39;00m\u001b[38;5;21;01mbbox\u001b[39;00m \u001b[38;5;28;01mimport\u001b[39;00m BaseBoxes\n\u001b[0;32m     14\u001b[0m \u001b[38;5;129m@TRANSFORMS\u001b[39m\u001b[38;5;241m.\u001b[39mregister_module()\n\u001b[0;32m     15\u001b[0m \u001b[38;5;28;01mclass\u001b[39;00m \u001b[38;5;21;01mPackDetInputs\u001b[39;00m(BaseTransform):\n\u001b[0;32m     16\u001b[0m \u001b[38;5;250m    \u001b[39m\u001b[38;5;124;03m\"\"\"Pack the inputs data for the detection / semantic segmentation /\u001b[39;00m\n\u001b[0;32m     17\u001b[0m \u001b[38;5;124;03m    panoptic segmentation.\u001b[39;00m\n\u001b[0;32m     18\u001b[0m \n\u001b[1;32m   (...)\u001b[0m\n\u001b[0;32m     42\u001b[0m \u001b[38;5;124;03m            'scale_factor', 'flip', 'flip_direction')``\u001b[39;00m\n\u001b[0;32m     43\u001b[0m \u001b[38;5;124;03m    \"\"\"\u001b[39;00m\n",
      "File \u001b[1;32mc:\\Users\\mikeG\\Documents\\school\\cisc-452\\CISC-452-Group-22\\lib\\site-packages\\mmdet\\structures\\bbox\\__init__.py:2\u001b[0m\n\u001b[0;32m      1\u001b[0m \u001b[38;5;66;03m# Copyright (c) OpenMMLab. All rights reserved.\u001b[39;00m\n\u001b[1;32m----> 2\u001b[0m \u001b[38;5;28;01mfrom\u001b[39;00m \u001b[38;5;21;01m.\u001b[39;00m\u001b[38;5;21;01mbase_boxes\u001b[39;00m \u001b[38;5;28;01mimport\u001b[39;00m BaseBoxes\n\u001b[0;32m      3\u001b[0m \u001b[38;5;28;01mfrom\u001b[39;00m \u001b[38;5;21;01m.\u001b[39;00m\u001b[38;5;21;01mbbox_overlaps\u001b[39;00m \u001b[38;5;28;01mimport\u001b[39;00m bbox_overlaps\n\u001b[0;32m      4\u001b[0m \u001b[38;5;28;01mfrom\u001b[39;00m \u001b[38;5;21;01m.\u001b[39;00m\u001b[38;5;21;01mbox_type\u001b[39;00m \u001b[38;5;28;01mimport\u001b[39;00m (autocast_box_type, convert_box_type, get_box_type,\n\u001b[0;32m      5\u001b[0m                        register_box, register_box_converter)\n",
      "File \u001b[1;32mc:\\Users\\mikeG\\Documents\\school\\cisc-452\\CISC-452-Group-22\\lib\\site-packages\\mmdet\\structures\\bbox\\base_boxes.py:9\u001b[0m\n\u001b[0;32m      6\u001b[0m \u001b[38;5;28;01mimport\u001b[39;00m \u001b[38;5;21;01mtorch\u001b[39;00m\n\u001b[0;32m      7\u001b[0m \u001b[38;5;28;01mfrom\u001b[39;00m \u001b[38;5;21;01mtorch\u001b[39;00m \u001b[38;5;28;01mimport\u001b[39;00m BoolTensor, Tensor\n\u001b[1;32m----> 9\u001b[0m \u001b[38;5;28;01mfrom\u001b[39;00m \u001b[38;5;21;01mmmdet\u001b[39;00m\u001b[38;5;21;01m.\u001b[39;00m\u001b[38;5;21;01mstructures\u001b[39;00m\u001b[38;5;21;01m.\u001b[39;00m\u001b[38;5;21;01mmask\u001b[39;00m\u001b[38;5;21;01m.\u001b[39;00m\u001b[38;5;21;01mstructures\u001b[39;00m \u001b[38;5;28;01mimport\u001b[39;00m BitmapMasks, PolygonMasks\n\u001b[0;32m     11\u001b[0m T \u001b[38;5;241m=\u001b[39m TypeVar(\u001b[38;5;124m'\u001b[39m\u001b[38;5;124mT\u001b[39m\u001b[38;5;124m'\u001b[39m)\n\u001b[0;32m     12\u001b[0m DeviceType \u001b[38;5;241m=\u001b[39m Union[\u001b[38;5;28mstr\u001b[39m, torch\u001b[38;5;241m.\u001b[39mdevice]\n",
      "File \u001b[1;32mc:\\Users\\mikeG\\Documents\\school\\cisc-452\\CISC-452-Group-22\\lib\\site-packages\\mmdet\\structures\\mask\\__init__.py:3\u001b[0m\n\u001b[0;32m      1\u001b[0m \u001b[38;5;66;03m# Copyright (c) OpenMMLab. All rights reserved.\u001b[39;00m\n\u001b[0;32m      2\u001b[0m \u001b[38;5;28;01mfrom\u001b[39;00m \u001b[38;5;21;01m.\u001b[39;00m\u001b[38;5;21;01mmask_target\u001b[39;00m \u001b[38;5;28;01mimport\u001b[39;00m mask_target\n\u001b[1;32m----> 3\u001b[0m \u001b[38;5;28;01mfrom\u001b[39;00m \u001b[38;5;21;01m.\u001b[39;00m\u001b[38;5;21;01mstructures\u001b[39;00m \u001b[38;5;28;01mimport\u001b[39;00m (BaseInstanceMasks, BitmapMasks, PolygonMasks,\n\u001b[0;32m      4\u001b[0m                          bitmap_to_polygon, polygon_to_bitmap)\n\u001b[0;32m      5\u001b[0m \u001b[38;5;28;01mfrom\u001b[39;00m \u001b[38;5;21;01m.\u001b[39;00m\u001b[38;5;21;01mutils\u001b[39;00m \u001b[38;5;28;01mimport\u001b[39;00m encode_mask_results, mask2bbox, split_combined_polys\n\u001b[0;32m      7\u001b[0m __all__ \u001b[38;5;241m=\u001b[39m [\n\u001b[0;32m      8\u001b[0m     \u001b[38;5;124m'\u001b[39m\u001b[38;5;124msplit_combined_polys\u001b[39m\u001b[38;5;124m'\u001b[39m, \u001b[38;5;124m'\u001b[39m\u001b[38;5;124mmask_target\u001b[39m\u001b[38;5;124m'\u001b[39m, \u001b[38;5;124m'\u001b[39m\u001b[38;5;124mBaseInstanceMasks\u001b[39m\u001b[38;5;124m'\u001b[39m, \u001b[38;5;124m'\u001b[39m\u001b[38;5;124mBitmapMasks\u001b[39m\u001b[38;5;124m'\u001b[39m,\n\u001b[0;32m      9\u001b[0m     \u001b[38;5;124m'\u001b[39m\u001b[38;5;124mPolygonMasks\u001b[39m\u001b[38;5;124m'\u001b[39m, \u001b[38;5;124m'\u001b[39m\u001b[38;5;124mencode_mask_results\u001b[39m\u001b[38;5;124m'\u001b[39m, \u001b[38;5;124m'\u001b[39m\u001b[38;5;124mmask2bbox\u001b[39m\u001b[38;5;124m'\u001b[39m, \u001b[38;5;124m'\u001b[39m\u001b[38;5;124mpolygon_to_bitmap\u001b[39m\u001b[38;5;124m'\u001b[39m,\n\u001b[0;32m     10\u001b[0m     \u001b[38;5;124m'\u001b[39m\u001b[38;5;124mbitmap_to_polygon\u001b[39m\u001b[38;5;124m'\u001b[39m\n\u001b[0;32m     11\u001b[0m ]\n",
      "File \u001b[1;32mc:\\Users\\mikeG\\Documents\\school\\cisc-452\\CISC-452-Group-22\\lib\\site-packages\\mmdet\\structures\\mask\\structures.py:10\u001b[0m\n\u001b[0;32m      8\u001b[0m \u001b[38;5;28;01mimport\u001b[39;00m \u001b[38;5;21;01mnumpy\u001b[39;00m \u001b[38;5;28;01mas\u001b[39;00m \u001b[38;5;21;01mnp\u001b[39;00m\n\u001b[0;32m      9\u001b[0m \u001b[38;5;28;01mimport\u001b[39;00m \u001b[38;5;21;01mpycocotools\u001b[39;00m\u001b[38;5;21;01m.\u001b[39;00m\u001b[38;5;21;01mmask\u001b[39;00m \u001b[38;5;28;01mas\u001b[39;00m \u001b[38;5;21;01mmaskUtils\u001b[39;00m\n\u001b[1;32m---> 10\u001b[0m \u001b[38;5;28;01mimport\u001b[39;00m \u001b[38;5;21;01mshapely\u001b[39;00m\u001b[38;5;21;01m.\u001b[39;00m\u001b[38;5;21;01mgeometry\u001b[39;00m \u001b[38;5;28;01mas\u001b[39;00m \u001b[38;5;21;01mgeometry\u001b[39;00m\n\u001b[0;32m     11\u001b[0m \u001b[38;5;28;01mimport\u001b[39;00m \u001b[38;5;21;01mtorch\u001b[39;00m\n\u001b[0;32m     12\u001b[0m \u001b[38;5;28;01mfrom\u001b[39;00m \u001b[38;5;21;01mmmcv\u001b[39;00m\u001b[38;5;21;01m.\u001b[39;00m\u001b[38;5;21;01mops\u001b[39;00m\u001b[38;5;21;01m.\u001b[39;00m\u001b[38;5;21;01mroi_align\u001b[39;00m \u001b[38;5;28;01mimport\u001b[39;00m roi_align\n",
      "File \u001b[1;32mc:\\Users\\mikeG\\Documents\\school\\cisc-452\\CISC-452-Group-22\\lib\\site-packages\\shapely\\__init__.py:26\u001b[0m\n\u001b[0;32m     24\u001b[0m \u001b[38;5;28;01mfrom\u001b[39;00m \u001b[38;5;21;01mshapely\u001b[39;00m\u001b[38;5;21;01m.\u001b[39;00m\u001b[38;5;21;01mlinear\u001b[39;00m \u001b[38;5;28;01mimport\u001b[39;00m \u001b[38;5;241m*\u001b[39m  \u001b[38;5;66;03m# NOQA\u001b[39;00m\n\u001b[0;32m     25\u001b[0m \u001b[38;5;28;01mfrom\u001b[39;00m \u001b[38;5;21;01mshapely\u001b[39;00m\u001b[38;5;21;01m.\u001b[39;00m\u001b[38;5;21;01mcoordinates\u001b[39;00m \u001b[38;5;28;01mimport\u001b[39;00m \u001b[38;5;241m*\u001b[39m  \u001b[38;5;66;03m# NOQA\u001b[39;00m\n\u001b[1;32m---> 26\u001b[0m \u001b[38;5;28;01mfrom\u001b[39;00m \u001b[38;5;21;01mshapely\u001b[39;00m\u001b[38;5;21;01m.\u001b[39;00m\u001b[38;5;21;01mstrtree\u001b[39;00m \u001b[38;5;28;01mimport\u001b[39;00m \u001b[38;5;241m*\u001b[39m  \u001b[38;5;66;03m# NOQA\u001b[39;00m\n\u001b[0;32m     27\u001b[0m \u001b[38;5;28;01mfrom\u001b[39;00m \u001b[38;5;21;01mshapely\u001b[39;00m\u001b[38;5;21;01m.\u001b[39;00m\u001b[38;5;21;01mio\u001b[39;00m \u001b[38;5;28;01mimport\u001b[39;00m \u001b[38;5;241m*\u001b[39m  \u001b[38;5;66;03m# NOQA\u001b[39;00m\n\u001b[0;32m     29\u001b[0m \u001b[38;5;66;03m# Submodule always needs to be imported to ensure Geometry subclasses are registered\u001b[39;00m\n",
      "File \u001b[1;32mc:\\Users\\mikeG\\Documents\\school\\cisc-452\\CISC-452-Group-22\\lib\\site-packages\\shapely\\strtree.py:8\u001b[0m\n\u001b[0;32m      6\u001b[0m \u001b[38;5;28;01mfrom\u001b[39;00m \u001b[38;5;21;01mshapely\u001b[39;00m\u001b[38;5;21;01m.\u001b[39;00m\u001b[38;5;21;01m_enum\u001b[39;00m \u001b[38;5;28;01mimport\u001b[39;00m ParamEnum\n\u001b[0;32m      7\u001b[0m \u001b[38;5;28;01mfrom\u001b[39;00m \u001b[38;5;21;01mshapely\u001b[39;00m\u001b[38;5;21;01m.\u001b[39;00m\u001b[38;5;21;01mdecorators\u001b[39;00m \u001b[38;5;28;01mimport\u001b[39;00m requires_geos, UnsupportedGEOSVersionError\n\u001b[1;32m----> 8\u001b[0m \u001b[38;5;28;01mfrom\u001b[39;00m \u001b[38;5;21;01mshapely\u001b[39;00m\u001b[38;5;21;01m.\u001b[39;00m\u001b[38;5;21;01mgeometry\u001b[39;00m\u001b[38;5;21;01m.\u001b[39;00m\u001b[38;5;21;01mbase\u001b[39;00m \u001b[38;5;28;01mimport\u001b[39;00m BaseGeometry\n\u001b[0;32m      9\u001b[0m \u001b[38;5;28;01mfrom\u001b[39;00m \u001b[38;5;21;01mshapely\u001b[39;00m\u001b[38;5;21;01m.\u001b[39;00m\u001b[38;5;21;01mpredicates\u001b[39;00m \u001b[38;5;28;01mimport\u001b[39;00m is_empty, is_missing\n\u001b[0;32m     11\u001b[0m __all__ \u001b[38;5;241m=\u001b[39m [\u001b[38;5;124m\"\u001b[39m\u001b[38;5;124mSTRtree\u001b[39m\u001b[38;5;124m\"\u001b[39m]\n",
      "File \u001b[1;32mc:\\Users\\mikeG\\Documents\\school\\cisc-452\\CISC-452-Group-22\\lib\\site-packages\\shapely\\geometry\\__init__.py:4\u001b[0m\n\u001b[0;32m      1\u001b[0m \u001b[38;5;124;03m\"\"\"Geometry classes and factories\u001b[39;00m\n\u001b[0;32m      2\u001b[0m \u001b[38;5;124;03m\"\"\"\u001b[39;00m\n\u001b[1;32m----> 4\u001b[0m \u001b[38;5;28;01mfrom\u001b[39;00m \u001b[38;5;21;01mshapely\u001b[39;00m\u001b[38;5;21;01m.\u001b[39;00m\u001b[38;5;21;01mgeometry\u001b[39;00m\u001b[38;5;21;01m.\u001b[39;00m\u001b[38;5;21;01mbase\u001b[39;00m \u001b[38;5;28;01mimport\u001b[39;00m CAP_STYLE, JOIN_STYLE\n\u001b[0;32m      5\u001b[0m \u001b[38;5;28;01mfrom\u001b[39;00m \u001b[38;5;21;01mshapely\u001b[39;00m\u001b[38;5;21;01m.\u001b[39;00m\u001b[38;5;21;01mgeometry\u001b[39;00m\u001b[38;5;21;01m.\u001b[39;00m\u001b[38;5;21;01mcollection\u001b[39;00m \u001b[38;5;28;01mimport\u001b[39;00m GeometryCollection\n\u001b[0;32m      6\u001b[0m \u001b[38;5;28;01mfrom\u001b[39;00m \u001b[38;5;21;01mshapely\u001b[39;00m\u001b[38;5;21;01m.\u001b[39;00m\u001b[38;5;21;01mgeometry\u001b[39;00m\u001b[38;5;21;01m.\u001b[39;00m\u001b[38;5;21;01mgeo\u001b[39;00m \u001b[38;5;28;01mimport\u001b[39;00m box, mapping, shape\n",
      "File \u001b[1;32mc:\\Users\\mikeG\\Documents\\school\\cisc-452\\CISC-452-Group-22\\lib\\site-packages\\shapely\\geometry\\base.py:16\u001b[0m\n\u001b[0;32m     14\u001b[0m \u001b[38;5;28;01mfrom\u001b[39;00m \u001b[38;5;21;01mshapely\u001b[39;00m\u001b[38;5;21;01m.\u001b[39;00m\u001b[38;5;21;01m_geometry_helpers\u001b[39;00m \u001b[38;5;28;01mimport\u001b[39;00m _geom_factory\n\u001b[0;32m     15\u001b[0m \u001b[38;5;28;01mfrom\u001b[39;00m \u001b[38;5;21;01mshapely\u001b[39;00m\u001b[38;5;21;01m.\u001b[39;00m\u001b[38;5;21;01mconstructive\u001b[39;00m \u001b[38;5;28;01mimport\u001b[39;00m BufferCapStyle, BufferJoinStyle\n\u001b[1;32m---> 16\u001b[0m \u001b[38;5;28;01mfrom\u001b[39;00m \u001b[38;5;21;01mshapely\u001b[39;00m\u001b[38;5;21;01m.\u001b[39;00m\u001b[38;5;21;01mcoords\u001b[39;00m \u001b[38;5;28;01mimport\u001b[39;00m CoordinateSequence\n\u001b[0;32m     17\u001b[0m \u001b[38;5;28;01mfrom\u001b[39;00m \u001b[38;5;21;01mshapely\u001b[39;00m\u001b[38;5;21;01m.\u001b[39;00m\u001b[38;5;21;01merrors\u001b[39;00m \u001b[38;5;28;01mimport\u001b[39;00m GeometryTypeError, GEOSException, ShapelyDeprecationWarning\n\u001b[0;32m     19\u001b[0m GEOMETRY_TYPES \u001b[38;5;241m=\u001b[39m [\n\u001b[0;32m     20\u001b[0m     \u001b[38;5;124m\"\u001b[39m\u001b[38;5;124mPoint\u001b[39m\u001b[38;5;124m\"\u001b[39m,\n\u001b[0;32m     21\u001b[0m     \u001b[38;5;124m\"\u001b[39m\u001b[38;5;124mLineString\u001b[39m\u001b[38;5;124m\"\u001b[39m,\n\u001b[1;32m   (...)\u001b[0m\n\u001b[0;32m     27\u001b[0m     \u001b[38;5;124m\"\u001b[39m\u001b[38;5;124mGeometryCollection\u001b[39m\u001b[38;5;124m\"\u001b[39m,\n\u001b[0;32m     28\u001b[0m ]\n",
      "File \u001b[1;32m<frozen importlib._bootstrap>:1027\u001b[0m, in \u001b[0;36m_find_and_load\u001b[1;34m(name, import_)\u001b[0m\n",
      "File \u001b[1;32m<frozen importlib._bootstrap>:1006\u001b[0m, in \u001b[0;36m_find_and_load_unlocked\u001b[1;34m(name, import_)\u001b[0m\n",
      "File \u001b[1;32m<frozen importlib._bootstrap>:688\u001b[0m, in \u001b[0;36m_load_unlocked\u001b[1;34m(spec)\u001b[0m\n",
      "File \u001b[1;32m<frozen importlib._bootstrap_external>:879\u001b[0m, in \u001b[0;36mexec_module\u001b[1;34m(self, module)\u001b[0m\n",
      "File \u001b[1;32m<frozen importlib._bootstrap_external>:969\u001b[0m, in \u001b[0;36mget_code\u001b[1;34m(self, fullname)\u001b[0m\n",
      "File \u001b[1;32m<frozen importlib._bootstrap_external>:1091\u001b[0m, in \u001b[0;36mpath_stats\u001b[1;34m(self, path)\u001b[0m\n",
      "File \u001b[1;32m<frozen importlib._bootstrap_external>:147\u001b[0m, in \u001b[0;36m_path_stat\u001b[1;34m(path)\u001b[0m\n",
      "\u001b[1;31mKeyboardInterrupt\u001b[0m: "
     ]
    }
   ],
   "source": [
    "import os\n",
    "import cv2\n",
    "from mmdet.apis import inference_detector, init_detector\n",
    "import requests\n",
    "from mmpose.utils import adapt_mmdet_pipeline\n",
    "from mmpose.registry import VISUALIZERS\n",
    "from mmpose.apis import inference_topdown\n",
    "from mmpose.apis import init_model as init_pose_estimator\n",
    "import mmcv\n",
    "import numpy as np\n",
    "from mmpose.evaluation.functional import nms\n",
    "from mmpose.structures import merge_data_samples"
   ]
  },
  {
   "cell_type": "markdown",
   "metadata": {},
   "source": [
    "Gather the model weights and code\n"
   ]
  },
  {
   "cell_type": "code",
   "execution_count": null,
   "metadata": {},
   "outputs": [
    {
     "name": "stdout",
     "output_type": "stream",
     "text": [
      "Loads checkpoint by http backend from path: https://download.openmmlab.com/mmpose/v1/projects/rtmpose/rtmdet_m_8xb32-100e_coco-obj365-person-235e8209.pth\n",
      "Loads checkpoint by http backend from path: https://download.openmmlab.com/mmpose/v1/projects/rtmposev1/rtmpose-m_simcc-body7_pt-body7_420e-256x192-e48f03d0_20230504.pth\n"
     ]
    }
   ],
   "source": [
    "#model configs\n",
    "dec_checkpoint_url = \"https://download.openmmlab.com/mmpose/v1/projects/rtmpose/rtmdet_m_8xb32-100e_coco-obj365-person-235e8209.pth\"\n",
    "pos_config_url = \"https://download.openmmlab.com/mmpose/v1/projects/rtmposev1/rtmpose-m_simcc-body7_pt-body7_420e-256x192-e48f03d0_20230504.pth\"\n",
    "\n",
    "#bbox detection\n",
    "detector = init_detector(\n",
    "        \"mmpose/demo/mmdetection_cfg/rtmdet_m_640-8xb32_coco-person.py\", dec_checkpoint_url, device=\"cuda\")\n",
    "detector.cfg = adapt_mmdet_pipeline(detector.cfg)\n",
    "\n",
    "\n",
    "pose_estimator = init_pose_estimator(\n",
    "        \"mmpose/configs/body_2d_keypoint/rtmpose/body8/rtmpose-m_8xb256-420e_body8-256x192.py \",\n",
    "        pos_config_url,\n",
    "        device=\"cuda\",\n",
    "        cfg_options=dict(\n",
    "            model=dict(test_cfg=dict(output_heatmaps=True))))"
   ]
  },
  {
   "cell_type": "code",
   "execution_count": null,
   "metadata": {},
   "outputs": [],
   "source": [
    "#setup visualizer\n",
    "pose_estimator.cfg.visualizer.radius = 3\n",
    "pose_estimator.cfg.visualizer.alpha = 0.8\n",
    "pose_estimator.cfg.visualizer.line_width = 1\n",
    "visualizer = VISUALIZERS.build(pose_estimator.cfg.visualizer)\n",
    "\n",
    "visualizer.set_dataset_meta(\n",
    "    pose_estimator.dataset_meta, skeleton_style=\"mmpose\")"
   ]
  },
  {
   "cell_type": "code",
   "execution_count": null,
   "metadata": {},
   "outputs": [],
   "source": [
    "\n",
    "def process_img(img, show=False):\n",
    " \n",
    "    #detect bbox\n",
    "    det_result = inference_detector(detector, img)\n",
    "    pred_instance = det_result.pred_instances.cpu().numpy()\n",
    "    bboxes = np.concatenate(\n",
    "        (pred_instance.bboxes, pred_instance.scores[:, None]), axis=1)\n",
    "    bboxes = bboxes[np.logical_and(pred_instance.labels == 0,\n",
    "                                    pred_instance.scores > 0.3)]\n",
    "    bboxes = bboxes[nms(bboxes, 0.3), :4]\n",
    "\n",
    "    #use bbox and pose estimator to generate our results\n",
    "    pose_results = inference_topdown(pose_estimator, img, bboxes)\n",
    "    data_samples = merge_data_samples(pose_results) \n",
    "\n",
    "    #create visualizations\n",
    "    #this function call is really slow and should be optimized in the future, but for now we utilize it to either generate visualizations or render the frame to compile to an output video\n",
    "    visualizer.add_datasample(\n",
    "                'result',\n",
    "                img,\n",
    "                data_sample=data_samples,\n",
    "                draw_gt=False,\n",
    "                draw_heatmap=False,\n",
    "                draw_bbox=True,\n",
    "                skeleton_style=\"mmpose\",\n",
    "                show=show,\n",
    "                wait_time=1)\n",
    "    return data_samples.get('pred_instances', None)\n"
   ]
  },
  {
   "cell_type": "markdown",
   "metadata": {},
   "source": [
    "# Single Image example\n"
   ]
  },
  {
   "cell_type": "code",
   "execution_count": null,
   "metadata": {},
   "outputs": [
    {
     "name": "stderr",
     "output_type": "stream",
     "text": [
      "c:\\Users\\mikeG\\Documents\\school\\cisc-452\\CISC-452-Group-22\\lib\\site-packages\\torch\\functional.py:504: UserWarning: torch.meshgrid: in an upcoming release, it will be required to pass the indexing argument. (Triggered internally at ..\\aten\\src\\ATen\\native\\TensorShape.cpp:3191.)\n",
      "  return _VF.meshgrid(tensors, **kwargs)  # type: ignore[attr-defined]\n",
      "c:\\users\\mikeg\\documents\\school\\cisc-452\\cisc-452-group-22\\mmpose\\mmpose\\models\\heads\\coord_cls_heads\\rtmcc_head.py:217: UserWarning: The predicted simcc values are normalized for visualization. This may cause discrepancy between the keypoint scores and the 1D heatmaps.\n",
      "  warnings.warn('The predicted simcc values are normalized for '\n"
     ]
    },
    {
     "data": {
      "text/plain": [
       "<InstanceData(\n",
       "\n",
       "    META INFORMATION\n",
       "\n",
       "    DATA FIELDS\n",
       "    bbox_scores: array([1., 1., 1.], dtype=float32)\n",
       "    bboxes: array([[ 995.2291 ,  882.78015, 1147.5598 , 1079.2466 ],\n",
       "               [ 641.4651 ,  425.7917 ,  836.5166 ,  783.908  ],\n",
       "               [1234.2535 ,  265.3804 , 1481.3005 ,  739.09204]], dtype=float32)\n",
       "    keypoint_x_labels: array([[[0.        , 0.        , 0.        , ..., 0.        ,\n",
       "                 0.        , 0.        ],\n",
       "                [0.        , 0.        , 0.        , ..., 0.        ,\n",
       "                 0.        , 0.        ],\n",
       "                [0.        , 0.        , 0.        , ..., 0.        ,\n",
       "                 0.        , 0.        ],\n",
       "                ...,\n",
       "                [0.        , 0.        , 0.        , ..., 0.        ,\n",
       "                 0.        , 0.        ],\n",
       "                [0.        , 0.        , 0.        , ..., 0.        ,\n",
       "                 0.        , 0.        ],\n",
       "                [0.        , 0.        , 0.        , ..., 0.        ,\n",
       "                 0.        , 0.        ]],\n",
       "        \n",
       "               [[0.        , 0.        , 0.        , ..., 0.        ,\n",
       "                 0.        , 0.        ],\n",
       "                [0.        , 0.        , 0.        , ..., 0.        ,\n",
       "                 0.        , 0.        ],\n",
       "                [0.00991283, 0.        , 0.        , ..., 0.        ,\n",
       "                 0.        , 0.        ],\n",
       "                ...,\n",
       "                [0.        , 0.        , 0.        , ..., 0.        ,\n",
       "                 0.        , 0.        ],\n",
       "                [0.        , 0.        , 0.        , ..., 0.        ,\n",
       "                 0.        , 0.        ],\n",
       "                [0.        , 0.        , 0.        , ..., 0.        ,\n",
       "                 0.        , 0.        ]],\n",
       "        \n",
       "               [[0.        , 0.        , 0.        , ..., 0.        ,\n",
       "                 0.        , 0.        ],\n",
       "                [0.        , 0.        , 0.        , ..., 0.        ,\n",
       "                 0.        , 0.        ],\n",
       "                [0.        , 0.        , 0.        , ..., 0.        ,\n",
       "                 0.        , 0.        ],\n",
       "                ...,\n",
       "                [0.        , 0.        , 0.        , ..., 0.        ,\n",
       "                 0.        , 0.        ],\n",
       "                [0.        , 0.        , 0.        , ..., 0.00162759,\n",
       "                 0.00274734, 0.01000353],\n",
       "                [0.        , 0.        , 0.        , ..., 0.        ,\n",
       "                 0.        , 0.02772819]]], dtype=float32)\n",
       "    keypoint_y_labels: array([[[0.        , 0.        , 0.        , ..., 0.        ,\n",
       "                 0.        , 0.        ],\n",
       "                [0.        , 0.        , 0.        , ..., 0.        ,\n",
       "                 0.        , 0.        ],\n",
       "                [0.        , 0.        , 0.        , ..., 0.        ,\n",
       "                 0.        , 0.        ],\n",
       "                ...,\n",
       "                [0.        , 0.        , 0.        , ..., 0.        ,\n",
       "                 0.        , 0.        ],\n",
       "                [0.        , 0.        , 0.        , ..., 0.        ,\n",
       "                 0.        , 0.        ],\n",
       "                [0.        , 0.        , 0.        , ..., 0.        ,\n",
       "                 0.        , 0.        ]],\n",
       "        \n",
       "               [[0.05586332, 0.02359885, 0.        , ..., 0.        ,\n",
       "                 0.01444637, 0.03293836],\n",
       "                [0.19222006, 0.14741817, 0.11242797, ..., 0.14027357,\n",
       "                 0.16995732, 0.20626214],\n",
       "                [0.2027591 , 0.15537369, 0.11927904, ..., 0.1664433 ,\n",
       "                 0.20259702, 0.24672769],\n",
       "                ...,\n",
       "                [0.        , 0.        , 0.        , ..., 0.        ,\n",
       "                 0.        , 0.        ],\n",
       "                [0.        , 0.        , 0.        , ..., 0.        ,\n",
       "                 0.        , 0.        ],\n",
       "                [0.        , 0.        , 0.        , ..., 0.        ,\n",
       "                 0.        , 0.        ]],\n",
       "        \n",
       "               [[0.0348407 , 0.01346179, 0.        , ..., 0.        ,\n",
       "                 0.        , 0.01319727],\n",
       "                [0.08575792, 0.05000006, 0.02670291, ..., 0.01018117,\n",
       "                 0.03711711, 0.07291113],\n",
       "                [0.07361485, 0.03923706, 0.01474957, ..., 0.11889112,\n",
       "                 0.15125263, 0.19340248],\n",
       "                ...,\n",
       "                [0.        , 0.        , 0.        , ..., 0.        ,\n",
       "                 0.        , 0.        ],\n",
       "                [0.        , 0.        , 0.        , ..., 0.        ,\n",
       "                 0.        , 0.        ],\n",
       "                [0.        , 0.        , 0.        , ..., 0.        ,\n",
       "                 0.        , 0.        ]]], dtype=float32)\n",
       "    keypoint_scores: array([[0.4970634 , 0.5486356 , 0.54743403, 0.37872753, 0.40905857,\n",
       "                0.33940464, 0.37698907, 0.5974374 , 0.50050616, 0.2673172 ,\n",
       "                0.11886255, 0.37767327, 0.4165434 , 0.07293484, 0.10940136,\n",
       "                0.03970502, 0.04390455],\n",
       "               [0.5910867 , 0.3750229 , 0.24577206, 0.6549473 , 0.57750285,\n",
       "                0.71953607, 0.72420704, 0.758818  , 0.68223524, 0.77660835,\n",
       "                0.5890249 , 0.5994432 , 0.58855945, 0.64415014, 0.7154922 ,\n",
       "                0.7071694 , 0.7836286 ],\n",
       "               [0.7068761 , 0.42839712, 0.4244069 , 0.64380413, 0.71438295,\n",
       "                0.67574036, 0.7517216 , 0.8155836 , 0.7276037 , 0.8523874 ,\n",
       "                0.7773969 , 0.69788307, 0.675025  , 0.76231813, 0.64619154,\n",
       "                0.77352655, 0.7915021 ]], dtype=float32)\n",
       "    keypoints: array([[[1072.8821 ,  920.0216 ],\n",
       "                [1080.816  ,  912.58356],\n",
       "                [1063.4607 ,  912.0877 ],\n",
       "                [1053.5433 ,  916.0546 ],\n",
       "                [1094.7003 ,  915.0629 ],\n",
       "                [1034.7003 ,  965.14557],\n",
       "                [1114.535  ,  966.6332 ],\n",
       "                [1007.9234 , 1028.6167 ],\n",
       "                [1133.8739 , 1030.6002 ],\n",
       "                [1013.378  , 1054.8977 ],\n",
       "                [1126.4359 , 1053.4102 ],\n",
       "                [1042.1383 , 1073.7407 ],\n",
       "                [1104.1218 , 1073.2449 ],\n",
       "                [1025.2788 , 1020.6828 ],\n",
       "                [1130.4028 , 1020.18695],\n",
       "                [1030.2374 , 1046.9639 ],\n",
       "                [1102.6343 , 1068.2861 ]],\n",
       "        \n",
       "               [[ 715.3845 ,  459.7148 ],\n",
       "                [ 704.8929 ,  456.2176 ],\n",
       "                [ 719.7561 ,  453.59467],\n",
       "                [ 705.76715,  470.2065 ],\n",
       "                [ 740.73944,  458.8405 ],\n",
       "                [ 703.1442 ,  505.1788 ],\n",
       "                [ 759.97424,  480.69818],\n",
       "                [ 654.18304,  533.1566 ],\n",
       "                [ 805.43823,  458.8405 ],\n",
       "                [ 676.91504,  487.69266],\n",
       "                [ 766.9687 ,  437.85712],\n",
       "                [ 732.87067,  610.0957 ],\n",
       "                [ 777.4604 ,  609.2214 ],\n",
       "                [ 673.4178 ,  591.7352 ],\n",
       "                [ 763.47144,  676.5431 ],\n",
       "                [ 708.3901 ,  670.4229 ],\n",
       "                [ 780.9576 ,  756.9794 ]],\n",
       "        \n",
       "               [[1361.2467 ,  383.11438],\n",
       "                [1349.6814 ,  381.95786],\n",
       "                [1368.1858 ,  378.4883 ],\n",
       "                [1345.0553 ,  387.74048],\n",
       "                [1385.5337 ,  383.11438],\n",
       "                [1342.7423 ,  423.59268],\n",
       "                [1405.1946 ,  416.65353],\n",
       "                [1294.1683 ,  383.11438],\n",
       "                [1393.6293 ,  341.47958],\n",
       "                [1298.7944 ,  322.97522],\n",
       "                [1368.1858 ,  290.5926 ],\n",
       "                [1368.1858 ,  540.4014 ],\n",
       "                [1415.6033 ,  545.0275 ],\n",
       "                [1296.4814 ,  487.20142],\n",
       "                [1441.0468 ,  621.35803],\n",
       "                [1284.9161 ,  569.3145 ],\n",
       "                [1464.1771 ,  709.2537 ]]], dtype=float32)\n",
       "    keypoints_visible: array([[0.4970634 , 0.5486356 , 0.54743403, 0.37872753, 0.40905857,\n",
       "                0.33940464, 0.37698907, 0.5974374 , 0.50050616, 0.2673172 ,\n",
       "                0.11886255, 0.37767327, 0.4165434 , 0.07293484, 0.10940136,\n",
       "                0.03970502, 0.04390455],\n",
       "               [0.5910867 , 0.3750229 , 0.24577206, 0.6549473 , 0.57750285,\n",
       "                0.71953607, 0.72420704, 0.758818  , 0.68223524, 0.77660835,\n",
       "                0.5890249 , 0.5994432 , 0.58855945, 0.64415014, 0.7154922 ,\n",
       "                0.7071694 , 0.7836286 ],\n",
       "               [0.7068761 , 0.42839712, 0.4244069 , 0.64380413, 0.71438295,\n",
       "                0.67574036, 0.7517216 , 0.8155836 , 0.7276037 , 0.8523874 ,\n",
       "                0.7773969 , 0.69788307, 0.675025  , 0.76231813, 0.64619154,\n",
       "                0.77352655, 0.7915021 ]], dtype=float32)\n",
       ") at 0x1ca3d38ee00>"
      ]
     },
     "execution_count": 6,
     "metadata": {},
     "output_type": "execute_result"
    }
   ],
   "source": [
    "\n",
    "img = mmcv.imread('C:\\\\Users\\\\mikeG\\\\Documents\\\\school\\\\cisc-452\\\\CISC-452-Group-22\\\\img\\\\41_2019-10-05_1-22.jpg')\n",
    "img = mmcv.bgr2rgb(img)\n",
    "process_img(img, True)"
   ]
  },
  {
   "cell_type": "markdown",
   "metadata": {},
   "source": [
    "# Video Example\n",
    "\n"
   ]
  },
  {
   "cell_type": "code",
   "execution_count": null,
   "metadata": {},
   "outputs": [
    {
     "name": "stderr",
     "output_type": "stream",
     "text": [
      "c:\\users\\mikeg\\documents\\school\\cisc-452\\cisc-452-group-22\\mmpose\\mmpose\\models\\heads\\coord_cls_heads\\rtmcc_head.py:217: UserWarning: The predicted simcc values are normalized for visualization. This may cause discrepancy between the keypoint scores and the 1D heatmaps.\n",
      "  warnings.warn('The predicted simcc values are normalized for '\n"
     ]
    },
    {
     "ename": "",
     "evalue": "",
     "output_type": "error",
     "traceback": [
      "\u001b[1;31mThe Kernel crashed while executing code in the current cell or a previous cell. \n",
      "\u001b[1;31mPlease review the code in the cell(s) to identify a possible cause of the failure. \n",
      "\u001b[1;31mClick <a href='https://aka.ms/vscodeJupyterKernelCrash'>here</a> for more info. \n",
      "\u001b[1;31mView Jupyter <a href='command:jupyter.viewOutput'>log</a> for further details."
     ]
    }
   ],
   "source": [
    "video = \"C:\\\\Users\\\\mikeG\\\\Documents\\\\school\\\\cisc-452\\\\CISC-452-Group-22\\\\cropped\\\\12_2019-05-03_1.mp4\"\n",
    "output = \"output.mp4\"\n",
    "cap = cv2.VideoCapture(video)\n",
    "video_writer = None\n",
    "while cap.isOpened():\n",
    "    ret, frame = cap.read()\n",
    "    if not ret:\n",
    "        break\n",
    "    data_samples = process_img(frame)\n",
    "\n",
    "    frame_vis = visualizer.get_image()\n",
    "\n",
    "    if video_writer is None:\n",
    "        fourcc = cv2.VideoWriter_fourcc(*'mp4v')\n",
    "        video_writer = cv2.VideoWriter(\n",
    "            output,\n",
    "            fourcc,\n",
    "            25,  # saved fps\n",
    "            (frame_vis.shape[1], frame_vis.shape[0]))\n",
    "\n",
    "    video_writer.write(mmcv.rgb2bgr(frame_vis))\n",
    "video_writer.release()\n",
    "\n",
    "\n",
    "\n"
   ]
  }
 ],
 "metadata": {
  "colab": {
   "authorship_tag": "ABX9TyPrzw3BnpkEBdif3EGVwwsr",
   "include_colab_link": true,
   "provenance": []
  },
  "kernelspec": {
   "display_name": "CISC-452-Group-22",
   "language": "python",
   "name": "python3"
  },
  "language_info": {
   "codemirror_mode": {
    "name": "ipython",
    "version": 3
   },
   "file_extension": ".py",
   "mimetype": "text/x-python",
   "name": "python",
   "nbconvert_exporter": "python",
   "pygments_lexer": "ipython3",
   "version": "3.10.11"
  }
 },
 "nbformat": 4,
 "nbformat_minor": 0
}
