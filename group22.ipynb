{
 "cells": [
  {
   "cell_type": "markdown",
   "metadata": {
    "colab_type": "text",
    "id": "view-in-github"
   },
   "source": [
    "<a href=\"https://colab.research.google.com/github/CISC452MLProject/CISC-452-Group-22/blob/main/group22.ipynb\" target=\"_parent\"><img src=\"https://colab.research.google.com/assets/colab-badge.svg\" alt=\"Open In Colab\"/></a>"
   ]
  },
  {
   "cell_type": "markdown",
   "metadata": {},
   "source": [
    "## Custom Trained Model"
   ]
  },
  {
   "cell_type": "code",
   "execution_count": null,
   "metadata": {},
   "outputs": [
    {
     "name": "stdout",
     "output_type": "stream",
     "text": [
      "2.1.3\n"
     ]
    }
   ],
   "source": [
    "import numpy\n",
    "import torch\n",
    "import mmpose\n",
    "\n",
    "print(torch.__version__)\n",
    "print(numpy.__version__)\n",
    "print(mmpose.__version__)"
   ]
  },
  {
   "cell_type": "markdown",
   "metadata": {},
   "source": [
    "### Convert the provided files (skeletons, metadata.txt) into a format compatible with MMPose. MMPose expects COCO-style JSON annotations for training."
   ]
  },
  {
   "cell_type": "code",
   "execution_count": 7,
   "metadata": {},
   "outputs": [
    {
     "ename": "ValueError",
     "evalue": "could not convert string to float: 'NULL'",
     "output_type": "error",
     "traceback": [
      "\u001b[1;31m---------------------------------------------------------------------------\u001b[0m",
      "\u001b[1;31mValueError\u001b[0m                                Traceback (most recent call last)",
      "Cell \u001b[1;32mIn[7], line 87\u001b[0m\n\u001b[0;32m     85\u001b[0m \u001b[38;5;66;03m# Process\u001b[39;00m\n\u001b[0;32m     86\u001b[0m metadata \u001b[38;5;241m=\u001b[39m parse_metadata(metadata_file)\n\u001b[1;32m---> 87\u001b[0m skeletons \u001b[38;5;241m=\u001b[39m \u001b[43mparse_skeletons\u001b[49m\u001b[43m(\u001b[49m\u001b[43mskeletons_dir\u001b[49m\u001b[43m)\u001b[49m\n\u001b[0;32m     89\u001b[0m \u001b[38;5;28;01mwith\u001b[39;00m \u001b[38;5;28mopen\u001b[39m(test_json, \u001b[38;5;124m'\u001b[39m\u001b[38;5;124mw\u001b[39m\u001b[38;5;124m'\u001b[39m) \u001b[38;5;28;01mas\u001b[39;00m f:\n\u001b[0;32m     90\u001b[0m     json\u001b[38;5;241m.\u001b[39mdump(skeletons, f, indent\u001b[38;5;241m=\u001b[39m\u001b[38;5;241m4\u001b[39m)\n",
      "Cell \u001b[1;32mIn[7], line 34\u001b[0m, in \u001b[0;36mparse_skeletons\u001b[1;34m(skeletons_dir)\u001b[0m\n\u001b[0;32m     32\u001b[0m             frame_number \u001b[38;5;241m=\u001b[39m \u001b[38;5;28mint\u001b[39m(parts[\u001b[38;5;241m0\u001b[39m])\n\u001b[0;32m     33\u001b[0m             keypoints \u001b[38;5;241m=\u001b[39m parts[\u001b[38;5;241m1\u001b[39m]\u001b[38;5;241m.\u001b[39msplit(\u001b[38;5;124m'\u001b[39m\u001b[38;5;124m;\u001b[39m\u001b[38;5;124m'\u001b[39m)\n\u001b[1;32m---> 34\u001b[0m             keypoints \u001b[38;5;241m=\u001b[39m [\u001b[38;5;28mfloat\u001b[39m(coord) \u001b[38;5;28;01mfor\u001b[39;00m kp \u001b[38;5;129;01min\u001b[39;00m keypoints \u001b[38;5;28;01mfor\u001b[39;00m coord \u001b[38;5;129;01min\u001b[39;00m kp\u001b[38;5;241m.\u001b[39msplit(\u001b[38;5;124m'\u001b[39m\u001b[38;5;124m,\u001b[39m\u001b[38;5;124m'\u001b[39m)]\n\u001b[0;32m     35\u001b[0m             skeleton_data[run_id]\u001b[38;5;241m.\u001b[39mappend({\n\u001b[0;32m     36\u001b[0m                 \u001b[38;5;124m'\u001b[39m\u001b[38;5;124mframe_number\u001b[39m\u001b[38;5;124m'\u001b[39m: frame_number,\n\u001b[0;32m     37\u001b[0m                 \u001b[38;5;124m'\u001b[39m\u001b[38;5;124mkeypoints\u001b[39m\u001b[38;5;124m'\u001b[39m: keypoints\n\u001b[0;32m     38\u001b[0m             })\n\u001b[0;32m     39\u001b[0m \u001b[38;5;28;01mreturn\u001b[39;00m skeleton_data\n",
      "Cell \u001b[1;32mIn[7], line 34\u001b[0m, in \u001b[0;36m<listcomp>\u001b[1;34m(.0)\u001b[0m\n\u001b[0;32m     32\u001b[0m             frame_number \u001b[38;5;241m=\u001b[39m \u001b[38;5;28mint\u001b[39m(parts[\u001b[38;5;241m0\u001b[39m])\n\u001b[0;32m     33\u001b[0m             keypoints \u001b[38;5;241m=\u001b[39m parts[\u001b[38;5;241m1\u001b[39m]\u001b[38;5;241m.\u001b[39msplit(\u001b[38;5;124m'\u001b[39m\u001b[38;5;124m;\u001b[39m\u001b[38;5;124m'\u001b[39m)\n\u001b[1;32m---> 34\u001b[0m             keypoints \u001b[38;5;241m=\u001b[39m [\u001b[38;5;28;43mfloat\u001b[39;49m\u001b[43m(\u001b[49m\u001b[43mcoord\u001b[49m\u001b[43m)\u001b[49m \u001b[38;5;28;01mfor\u001b[39;00m kp \u001b[38;5;129;01min\u001b[39;00m keypoints \u001b[38;5;28;01mfor\u001b[39;00m coord \u001b[38;5;129;01min\u001b[39;00m kp\u001b[38;5;241m.\u001b[39msplit(\u001b[38;5;124m'\u001b[39m\u001b[38;5;124m,\u001b[39m\u001b[38;5;124m'\u001b[39m)]\n\u001b[0;32m     35\u001b[0m             skeleton_data[run_id]\u001b[38;5;241m.\u001b[39mappend({\n\u001b[0;32m     36\u001b[0m                 \u001b[38;5;124m'\u001b[39m\u001b[38;5;124mframe_number\u001b[39m\u001b[38;5;124m'\u001b[39m: frame_number,\n\u001b[0;32m     37\u001b[0m                 \u001b[38;5;124m'\u001b[39m\u001b[38;5;124mkeypoints\u001b[39m\u001b[38;5;124m'\u001b[39m: keypoints\n\u001b[0;32m     38\u001b[0m             })\n\u001b[0;32m     39\u001b[0m \u001b[38;5;28;01mreturn\u001b[39;00m skeleton_data\n",
      "\u001b[1;31mValueError\u001b[0m: could not convert string to float: 'NULL'"
     ]
    }
   ],
   "source": [
    "import json\n",
    "import os\n",
    "\n",
    "def parse_metadata(metadata_path):\n",
    "    metadata = {}\n",
    "    with open(metadata_path, 'r') as f:\n",
    "        for line in f:\n",
    "            parts = line.strip().split(';')\n",
    "            metadata[parts[0]] = {\n",
    "                'id_climber': parts[1],\n",
    "                'date': parts[2],\n",
    "                'run_number': parts[3],\n",
    "                'url': parts[4],\n",
    "                'start': float(parts[5]),\n",
    "                'end': float(parts[6]),\n",
    "                'time_sec': float(parts[7]),\n",
    "                'time_frames': int(parts[8]),\n",
    "                'finished': int(parts[9]),\n",
    "                'side': parts[10],\n",
    "                'fps': float(parts[11])\n",
    "            }\n",
    "    return metadata\n",
    "\n",
    "def parse_skeletons(skeletons_dir):\n",
    "    skeleton_data = {}\n",
    "    for file_name in os.listdir(skeletons_dir):\n",
    "        run_id = file_name.replace('.txt', '')\n",
    "        skeleton_data[run_id] = []\n",
    "        with open(os.path.join(skeletons_dir, file_name), 'r') as f:\n",
    "            for line in f:\n",
    "                parts = line.strip().split('#')\n",
    "                frame_number = int(parts[0])\n",
    "                keypoints = parts[1].split(';')\n",
    "                keypoints = [float(coord) for kp in keypoints for coord in kp.split(',')]\n",
    "                skeleton_data[run_id].append({\n",
    "                    'frame_number': frame_number,\n",
    "                    'keypoints': keypoints\n",
    "                })\n",
    "    return skeleton_data\n",
    "\n",
    "def generate_coco_json(images_dir, skeletons, metadata, output_json):\n",
    "    coco_data = {\n",
    "        'images': [],\n",
    "        'annotations': [],\n",
    "        'categories': [{\n",
    "            'id': 1,\n",
    "            'name': 'person',\n",
    "            'keypoints': [f'j{i+1}' for i in range(16)],\n",
    "            'skeleton': [[i, i+1] for i in range(1, 16)]  # Assuming a simple linear skeleton structure\n",
    "        }]\n",
    "    }\n",
    "\n",
    "    annotation_id = 1\n",
    "    for run_id, frames in skeletons.items():\n",
    "        climber_metadata = metadata.get(run_id, {})\n",
    "        for frame in frames:\n",
    "            image_id = len(coco_data['images']) + 1\n",
    "            frame_number = frame['frame_number']\n",
    "            image_path = os.path.join(images_dir, f'frame{frame_number}.jpg')\n",
    "            coco_data['images'].append({\n",
    "                'id': image_id,\n",
    "                'file_name': image_path,\n",
    "                'height': 720,  # Adjust based on your actual image size\n",
    "                'width': 1280\n",
    "            })\n",
    "            coco_data['annotations'].append({\n",
    "                'id': annotation_id,\n",
    "                'image_id': image_id,\n",
    "                'category_id': 1,\n",
    "                'keypoints': frame['keypoints'],\n",
    "                'num_keypoints': sum(1 for x in frame['keypoints'][2::3] if x > 0)\n",
    "            })\n",
    "            annotation_id += 1\n",
    "\n",
    "    with open(output_json, 'w') as f:\n",
    "        json.dump(coco_data, f, indent=4)\n",
    "\n",
    "# Paths\n",
    "images_dir = 'img'\n",
    "skeletons_dir = 'data_unprocessed/skeletons'\n",
    "metadata_file = 'data_unprocessed/metadata.txt'\n",
    "output_json = 'climbData.json'\n",
    "test_json = 'test.json'\n",
    "\n",
    "# Process\n",
    "metadata = parse_metadata(metadata_file)\n",
    "skeletons = parse_skeletons(skeletons_dir)\n",
    "\n",
    "with open(test_json, 'w') as f:\n",
    "    json.dump(skeletons, f, indent=4)\n",
    "\n",
    "\n",
    "# generate_coco_json(images_dir, skeletons, metadata, output_json)\n"
   ]
  }
 ],
 "metadata": {
  "colab": {
   "authorship_tag": "ABX9TyPrzw3BnpkEBdif3EGVwwsr",
   "include_colab_link": true,
   "provenance": []
  },
  "kernelspec": {
   "display_name": "CISC-452-Group-22",
   "language": "python",
   "name": "python3"
  },
  "language_info": {
   "codemirror_mode": {
    "name": "ipython",
    "version": 3
   },
   "file_extension": ".py",
   "mimetype": "text/x-python",
   "name": "python",
   "nbconvert_exporter": "python",
   "pygments_lexer": "ipython3",
   "version": "3.10.0"
  }
 },
 "nbformat": 4,
 "nbformat_minor": 0
}
