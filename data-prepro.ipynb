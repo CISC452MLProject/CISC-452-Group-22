{
 "cells": [
  {
   "cell_type": "markdown",
   "metadata": {},
   "source": [
    "# Code used to generate the data set"
   ]
  },
  {
   "cell_type": "code",
   "execution_count": 46,
   "metadata": {},
   "outputs": [],
   "source": [
    "import numpy as np\n",
    "import os\n",
    "import math\n",
    "import shutil\n",
    "# from moviepy.video.io.VideoFileClip import VideoFileClip\n",
    "# from moviepy.video.io.ffmpeg_tools import ffmpeg_extract_subclip"
   ]
  },
  {
   "cell_type": "code",
   "execution_count": 49,
   "metadata": {},
   "outputs": [],
   "source": [
    "if not os.path.exists('videos'):\n",
    "    shutil.unpack_archive('videos.zip', 'videos')\n"
   ]
  },
  {
   "cell_type": "code",
   "execution_count": 2,
   "metadata": {},
   "outputs": [],
   "source": [
    "#parse metadata\n",
    "with open(\"data_unprocessed/metadata.txt\") as file:\n",
    "    lines =  np.array([line.rstrip().split(\";\") for line in file])\n"
   ]
  },
  {
   "cell_type": "code",
   "execution_count": 3,
   "metadata": {},
   "outputs": [],
   "source": [
    "newpath = r'./temp' \n",
    "if not os.path.exists(newpath):\n",
    "    os.makedirs(newpath)"
   ]
  },
  {
   "cell_type": "markdown",
   "metadata": {},
   "source": [
    "Ideally we would use a python library to download the youtube videos here. Unfortunatly a recent change to Youtubes cypher system has rendered all of these tools non-functional. Since our data set has a small number of long videos, we have opted to download them manually."
   ]
  },
  {
   "cell_type": "markdown",
   "metadata": {},
   "source": [
    "Currently the raw videos are not included in the repo, later I will include them in a zip archive if the github file limit allows it"
   ]
  },
  {
   "cell_type": "code",
   "execution_count": 6,
   "metadata": {},
   "outputs": [],
   "source": [
    "from moviepy.config import FFMPEG_BINARY\n",
    "import subprocess\n",
    "\n",
    "def ffmpeg_extract_subclip(\n",
    "    inputfile, start_time, end_time, outputfile=None, logger=\"bar\"\n",
    "):\n",
    "    \"\"\"Makes a new video file playing video file between two times.\n",
    "\n",
    "    Parameters\n",
    "    ----------\n",
    "\n",
    "    inputfile : str\n",
    "      Path to the file from which the subclip will be extracted.\n",
    "\n",
    "    start_time : float\n",
    "      Moment of the input clip that marks the start of the produced subclip.\n",
    "\n",
    "    end_time : float\n",
    "      Moment of the input clip that marks the end of the produced subclip.\n",
    "\n",
    "    outputfile : str, optional\n",
    "      Path to the output file. Defaults to\n",
    "      ``<inputfile_name>SUB<start_time>_<end_time><ext>``.\n",
    "    \"\"\"\n",
    "    if not outputfile:\n",
    "        name, ext = os.path.splitext(inputfile)\n",
    "        t1, t2 = [int(1000 * t) for t in [start_time, end_time]]\n",
    "        outputfile = \"%sSUB%d_%d%s\" % (name, t1, t2, ext)\n",
    "\n",
    "    cmd = [\n",
    "        FFMPEG_BINARY,\n",
    "        \"-y\",\n",
    "        \"-ss\",\n",
    "        \"%0.2f\" % start_time,\n",
    "        \"-i\",\n",
    "        inputfile,\n",
    "        \"-to\",\n",
    "        \"%0.2f\" % end_time,\n",
    "        \"-map\",\n",
    "        \"0\",\n",
    "        \"-vcodec\",\n",
    "        \"copy\",\n",
    "        \"-acodec\",\n",
    "        \"copy\",\n",
    "        \"-copyts\",\n",
    "        outputfile,\n",
    "    ]\n",
    "    subprocess.run(cmd)"
   ]
  },
  {
   "cell_type": "code",
   "execution_count": 45,
   "metadata": {},
   "outputs": [],
   "source": [
    "links = np.unique(lines.transpose()[4])\n",
    "sample = lines[2]\n",
    "\n",
    "i=0\n",
    "while i < len(lines):\n",
    "    \n",
    "    if float(lines[i][5]) == float(lines[i+1][5])  and lines[i][4] == lines[i+1][4]:\n",
    "        sample = lines[i if lines[i][6]> lines[i+1][6]  else i+1]\n",
    "        start = float(lines[i][5])\n",
    "        end = max(float(lines[i][6]), float(lines[i+1][6]))\n",
    "        \n",
    "        name = lines[i][0]+\"&\"+lines[i+1][0]\n",
    "        i+=2\n",
    "    else:\n",
    "        sample = lines[i]\n",
    "        start = float(sample[5])\n",
    "        end = float(sample[6])\n",
    "        name = sample[0]\n",
    "        i+=1\n",
    "\n",
    "    idx = np.where(links == sample[4])\n",
    "    ## If its the first video, remove once all have been downloaded\n",
    "    if idx[0][0] == 0:\n",
    "        ffmpeg_extract_subclip(\"videos/\"+str(idx[0][0])+\".mp4\", start, end, \"cropped/\" + name+\".mp4\")\n",
    "        \n",
    "       \n"
   ]
  },
  {
   "cell_type": "markdown",
   "metadata": {},
   "source": [
    "\n",
    "Create a zip archive of the output so the videos can be commited to github"
   ]
  },
  {
   "cell_type": "code",
   "execution_count": 48,
   "metadata": {},
   "outputs": [
    {
     "data": {
      "text/plain": [
       "'c:\\\\Users\\\\mikeG\\\\Documents\\\\school\\\\cisc-452\\\\CISC-452-Group-22\\\\videos_processed.zip'"
      ]
     },
     "execution_count": 48,
     "metadata": {},
     "output_type": "execute_result"
    }
   ],
   "source": [
    "if os.path.isfile(\"videos_processed.zip\"):\n",
    "    os.remove(\"videos_processed.zip\")\n",
    "shutil.make_archive(\"videos_processed\", 'zip', \"cropped\")"
   ]
  }
 ],
 "metadata": {
  "kernelspec": {
   "display_name": "CISC-452-Group-22",
   "language": "python",
   "name": "python3"
  },
  "language_info": {
   "codemirror_mode": {
    "name": "ipython",
    "version": 3
   },
   "file_extension": ".py",
   "mimetype": "text/x-python",
   "name": "python",
   "nbconvert_exporter": "python",
   "pygments_lexer": "ipython3",
   "version": "3.12.7"
  }
 },
 "nbformat": 4,
 "nbformat_minor": 2
}
