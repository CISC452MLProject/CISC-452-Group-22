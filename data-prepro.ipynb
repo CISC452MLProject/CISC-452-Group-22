{
 "cells": [
  {
   "cell_type": "markdown",
   "metadata": {},
   "source": [
    "# Code used to generate the data set"
   ]
  },
  {
   "cell_type": "code",
   "execution_count": 1,
   "metadata": {},
   "outputs": [],
   "source": [
    "import numpy as np\n",
    "import os\n",
    "# from moviepy.video.io.VideoFileClip import VideoFileClip\n",
    "# from moviepy.video.io.ffmpeg_tools import ffmpeg_extract_subclip"
   ]
  },
  {
   "cell_type": "code",
   "execution_count": 2,
   "metadata": {},
   "outputs": [],
   "source": [
    "#parse metadata\n",
    "with open(\"data_unprocessed/metadata.txt\") as file:\n",
    "    lines =  np.array([line.rstrip().split(\";\") for line in file])\n"
   ]
  },
  {
   "cell_type": "code",
   "execution_count": 3,
   "metadata": {},
   "outputs": [],
   "source": [
    "newpath = r'./temp' \n",
    "if not os.path.exists(newpath):\n",
    "    os.makedirs(newpath)"
   ]
  },
  {
   "cell_type": "markdown",
   "metadata": {},
   "source": [
    "Ideally we would use a python library to download the youtube videos here. Unfortunatly a recent change to Youtubes cypher system has rendered all of these tools non-functional. Since our data set has a small number of long videos, we have opted to download them manually."
   ]
  },
  {
   "cell_type": "markdown",
   "metadata": {},
   "source": [
    "Currently the raw videos are not included in the repo, later I will include them in a zip archive if the github file limit allows it"
   ]
  },
  {
   "cell_type": "code",
   "execution_count": 6,
   "metadata": {},
   "outputs": [],
   "source": [
    "from moviepy.config import FFMPEG_BINARY\n",
    "import subprocess\n",
    "\n",
    "def ffmpeg_extract_subclip(\n",
    "    inputfile, start_time, end_time, outputfile=None, logger=\"bar\"\n",
    "):\n",
    "    \"\"\"Makes a new video file playing video file between two times.\n",
    "\n",
    "    Parameters\n",
    "    ----------\n",
    "\n",
    "    inputfile : str\n",
    "      Path to the file from which the subclip will be extracted.\n",
    "\n",
    "    start_time : float\n",
    "      Moment of the input clip that marks the start of the produced subclip.\n",
    "\n",
    "    end_time : float\n",
    "      Moment of the input clip that marks the end of the produced subclip.\n",
    "\n",
    "    outputfile : str, optional\n",
    "      Path to the output file. Defaults to\n",
    "      ``<inputfile_name>SUB<start_time>_<end_time><ext>``.\n",
    "    \"\"\"\n",
    "    if not outputfile:\n",
    "        name, ext = os.path.splitext(inputfile)\n",
    "        t1, t2 = [int(1000 * t) for t in [start_time, end_time]]\n",
    "        outputfile = \"%sSUB%d_%d%s\" % (name, t1, t2, ext)\n",
    "\n",
    "    cmd = [\n",
    "        FFMPEG_BINARY,\n",
    "        \"-y\",\n",
    "        \"-ss\",\n",
    "        \"%0.2f\" % start_time,\n",
    "        \"-i\",\n",
    "        inputfile,\n",
    "        \"-to\",\n",
    "        \"%0.2f\" % end_time,\n",
    "        \"-map\",\n",
    "        \"0\",\n",
    "        \"-vcodec\",\n",
    "        \"copy\",\n",
    "        \"-acodec\",\n",
    "        \"copy\",\n",
    "        \"-copyts\",\n",
    "        outputfile,\n",
    "    ]\n",
    "    subprocess.run(cmd)"
   ]
  },
  {
   "cell_type": "code",
   "execution_count": null,
   "metadata": {},
   "outputs": [
    {
     "name": "stdout",
     "output_type": "stream",
     "text": [
      "['52_2018-07-28_1' '52' '2018-07-28' '1'\n",
      " 'https://www.youtube.com/watch?v=gov-xssWc0E' '1625.81' '1631.72' '5.91'\n",
      " '148' '1' 'l' '25']\n",
      "['https://www.youtube.com/watch?v=-_x798uYXlg'\n",
      " 'https://www.youtube.com/watch?v=1nZB-YeGJuY'\n",
      " 'https://www.youtube.com/watch?v=1qsaxQFSOJA'\n",
      " 'https://www.youtube.com/watch?v=BIcThugvCPQ'\n",
      " 'https://www.youtube.com/watch?v=DpavgMOwjkU'\n",
      " 'https://www.youtube.com/watch?v=KI4L0eokqkc'\n",
      " 'https://www.youtube.com/watch?v=QQZnVEeBigY'\n",
      " 'https://www.youtube.com/watch?v=eEscR-ZiY2w'\n",
      " 'https://www.youtube.com/watch?v=fLwHcImYUr8'\n",
      " 'https://www.youtube.com/watch?v=frbvf1iQ56U'\n",
      " 'https://www.youtube.com/watch?v=gov-xssWc0E'\n",
      " 'https://www.youtube.com/watch?v=i0vHEP6T7fw'\n",
      " 'https://www.youtube.com/watch?v=l4kuUV-hL3s'\n",
      " 'https://www.youtube.com/watch?v=lBf2lp7OxnY'\n",
      " 'https://www.youtube.com/watch?v=o5CGrqcmNow'\n",
      " 'https://www.youtube.com/watch?v=pJKVOWApsEU'\n",
      " 'https://www.youtube.com/watch?v=y9ZQj3758mw']\n",
      "1697.68\n"
     ]
    }
   ],
   "source": [
    "links = np.unique(lines.transpose()[4])\n",
    "print(lines[0])\n",
    "print(links)\n",
    "sample = lines[2]\n",
    "\n",
    "print(float(sample[5]))\n",
    "\n",
    "\n",
    "count = 0\n",
    "for i in range(0,len(lines),2):\n",
    "    sample = lines[i if lines[i][6]> lines[i+1][6]  else i+1]\n",
    "    if sample[4] == links[0]:\n",
    "        count +=1\n",
    "        ffmpeg_extract_subclip(\"videos/0.mp4\", float(sample[5]), float(sample[6]), \"cropped/\" + sample[0]+\".mp4\")\n",
    "        \n",
    "    if count >= 5:\n",
    "        break\n",
    "       \n",
    "#https://stackoverflow.com/questions/52257731/extract-part-of-a-video-using-ffmpeg-extract-subclip-black-frames "
   ]
  }
 ],
 "metadata": {
  "kernelspec": {
   "display_name": "CISC-452-Group-22",
   "language": "python",
   "name": "python3"
  },
  "language_info": {
   "codemirror_mode": {
    "name": "ipython",
    "version": 3
   },
   "file_extension": ".py",
   "mimetype": "text/x-python",
   "name": "python",
   "nbconvert_exporter": "python",
   "pygments_lexer": "ipython3",
   "version": "3.12.7"
  }
 },
 "nbformat": 4,
 "nbformat_minor": 2
}
